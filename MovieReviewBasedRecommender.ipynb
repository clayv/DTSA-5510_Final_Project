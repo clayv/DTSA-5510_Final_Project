{
 "cells": [
  {
   "cell_type": "markdown",
   "id": "d6b8ab6f",
   "metadata": {},
   "source": [
    "# DTSA-5510:  Final Project\n",
    "### June 20, 2022\n",
    "\n",
    "\n",
    "## An Unsupervised Machine Learning Approach for Movie Recommendations Based on User Submitted Reviews\n",
    "### Introduction\n",
    "\n",
    "This is the Final Project for DTSA-5510, Unsupervised Algorithms in Machine Learning.  This project applies unsupervised learning algorithms to movie data in an attempt to generate a movie recommendation system based _solely_ on the reviews submitted by users.  \n",
    "  \n",
    "All other movie recommendation systems I'd read about were essentially genre based, where films are recommended based on how similar the recommended films genres are to the film in question. Mine is an entirely different approach in that a film's genre(s) and its ratings are not given to the unsupervised algorithm. Instead, only the text of user submitted reviews are utilized in training the model.\n",
    "\n",
    "This approach had several challenges, the first of which was just finding the data. The movies.csv file as well and the train and test csv files are the same as ones used during Week 3 of the course. Finding user reviews proved more difficult, but I found a large set on [Kaggle](https://www.kaggle.com/),  IMDB_reviews.json, which is part of a larger dataset, [IMDB Spoiler Dataset](https://www.kaggle.com/datasets/rmisra/imdb-spoiler-dataset?select=IMDB_reviews.json).\n",
    "\n",
    "However, I still needed a way to link the files from the course to the user reviews. This I was able to get using the links.csv file from the [MovieLens 25M Dataset](https://grouplens.org/datasets/movielens/).\n",
    "  \n",
    "All of these files, with the exception of the IMDB Reviews file, as well as the Jupyter notebook used to this create report, can be found at and cloned from https://github.com/clayv/DTSA-5510_Final_Project. The IMDB Reviews file is too large, even if compressed, to be uploaded to GitHub and must be downloaded separately from the [IMDB Spoiler Dataset](https://www.kaggle.com/datasets/rmisra/imdb-spoiler-dataset?select=IMDB_reviews.json) on [Kaggle](https://www.kaggle.com/).\n",
    "\n",
    "Finally to those reviewing this... please accept my apologies in advance. When I began this experiment I did not realize how many pages this project would wind up being.\n",
    "\n",
    "**References:**  \n",
    "Beysolow, T. (2018). _Applied Natural Language Processing with Python_. Apress  \n",
    "Nixon, A. (2020, August 28). Building a movie content based recommender using tf-idf. Towards Data Science. https://towardsdatascience.com/content-based-recommender-systems-28a1dbd858f5"
   ]
  },
  {
   "cell_type": "code",
   "execution_count": 80,
   "id": "795d2d59",
   "metadata": {},
   "outputs": [],
   "source": [
    "import matplotlib.pylab as plt\n",
    "from matplotlib.pyplot import figure\n",
    "import numpy as np\n",
    "import pandas as pd\n",
    "from scipy.spatial import distance\n",
    "from sklearn.feature_extraction.text import TfidfVectorizer, CountVectorizer\n",
    "from sklearn.decomposition import NMF, TruncatedSVD, LatentDirichletAllocation\n",
    "import sklearn.metrics as metrics\n",
    "\n",
    "#Change to None if results other than thos documented are desired\n",
    "randomState = 42"
   ]
  },
  {
   "cell_type": "markdown",
   "id": "ea885447",
   "metadata": {},
   "source": [
    "### Step 0: Load the data"
   ]
  },
  {
   "cell_type": "code",
   "execution_count": 2,
   "id": "66cdad6d",
   "metadata": {},
   "outputs": [],
   "source": [
    "pd.set_option(\"display.max_colwidth\", None)\n",
    "\n",
    "dfReviews = pd.read_json(\"./data/IMDB_reviews.json.zip\", orient = \"records\", lines = True, compression=\"zip\")\n",
    "dfLinks = pd.read_csv(\"./data/links.csv\")\n",
    "dfMovies = pd.read_csv(\"./data/movies.csv\")\n",
    "dfTrain = pd.read_csv(\"./data/train.csv\")\n",
    "dfTest = pd.read_csv(\"./data/test.csv\")\n"
   ]
  },
  {
   "cell_type": "markdown",
   "id": "a634bf74",
   "metadata": {},
   "source": [
    "Initial examination of the data revealed no null data in any of the fields of interest for this project"
   ]
  },
  {
   "cell_type": "code",
   "execution_count": 3,
   "id": "853df402",
   "metadata": {
    "scrolled": false
   },
   "outputs": [
    {
     "name": "stdout",
     "output_type": "stream",
     "text": [
      "Reviews dataframe:\n",
      "<class 'pandas.core.frame.DataFrame'>\n",
      "RangeIndex: 573913 entries, 0 to 573912\n",
      "Data columns (total 7 columns):\n",
      " #   Column          Non-Null Count   Dtype \n",
      "---  ------          --------------   ----- \n",
      " 0   review_date     573913 non-null  object\n",
      " 1   movie_id        573913 non-null  object\n",
      " 2   user_id         573913 non-null  object\n",
      " 3   is_spoiler      573913 non-null  bool  \n",
      " 4   review_text     573913 non-null  object\n",
      " 5   rating          573913 non-null  int64 \n",
      " 6   review_summary  573913 non-null  object\n",
      "dtypes: bool(1), int64(1), object(5)\n",
      "memory usage: 26.8+ MB\n",
      "\n",
      "Links dataframe:\n",
      "<class 'pandas.core.frame.DataFrame'>\n",
      "RangeIndex: 62423 entries, 0 to 62422\n",
      "Data columns (total 3 columns):\n",
      " #   Column   Non-Null Count  Dtype  \n",
      "---  ------   --------------  -----  \n",
      " 0   movieId  62423 non-null  int64  \n",
      " 1   imdbId   62423 non-null  int64  \n",
      " 2   tmdbId   62316 non-null  float64\n",
      "dtypes: float64(1), int64(2)\n",
      "memory usage: 1.4 MB\n",
      "\n",
      "Movies dataframe:\n",
      "<class 'pandas.core.frame.DataFrame'>\n",
      "RangeIndex: 3883 entries, 0 to 3882\n",
      "Data columns (total 21 columns):\n",
      " #   Column  Non-Null Count  Dtype \n",
      "---  ------  --------------  ----- \n",
      " 0   mID     3883 non-null   int64 \n",
      " 1   title   3883 non-null   object\n",
      " 2   year    3883 non-null   int64 \n",
      " 3   Doc     3883 non-null   int64 \n",
      " 4   Com     3883 non-null   int64 \n",
      " 5   Hor     3883 non-null   int64 \n",
      " 6   Adv     3883 non-null   int64 \n",
      " 7   Wes     3883 non-null   int64 \n",
      " 8   Dra     3883 non-null   int64 \n",
      " 9   Ani     3883 non-null   int64 \n",
      " 10  War     3883 non-null   int64 \n",
      " 11  Chi     3883 non-null   int64 \n",
      " 12  Cri     3883 non-null   int64 \n",
      " 13  Thr     3883 non-null   int64 \n",
      " 14  Sci     3883 non-null   int64 \n",
      " 15  Mys     3883 non-null   int64 \n",
      " 16  Rom     3883 non-null   int64 \n",
      " 17  Fil     3883 non-null   int64 \n",
      " 18  Fan     3883 non-null   int64 \n",
      " 19  Act     3883 non-null   int64 \n",
      " 20  Mus     3883 non-null   int64 \n",
      "dtypes: int64(20), object(1)\n",
      "memory usage: 637.2+ KB\n",
      "\n",
      "Training dataframe:\n",
      "<class 'pandas.core.frame.DataFrame'>\n",
      "RangeIndex: 700146 entries, 0 to 700145\n",
      "Data columns (total 3 columns):\n",
      " #   Column  Non-Null Count   Dtype\n",
      "---  ------  --------------   -----\n",
      " 0   uID     700146 non-null  int64\n",
      " 1   mID     700146 non-null  int64\n",
      " 2   rating  700146 non-null  int64\n",
      "dtypes: int64(3)\n",
      "memory usage: 16.0 MB\n",
      "\n",
      "Test dataframe:\n",
      "<class 'pandas.core.frame.DataFrame'>\n",
      "RangeIndex: 300063 entries, 0 to 300062\n",
      "Data columns (total 3 columns):\n",
      " #   Column  Non-Null Count   Dtype\n",
      "---  ------  --------------   -----\n",
      " 0   uID     300063 non-null  int64\n",
      " 1   mID     300063 non-null  int64\n",
      " 2   rating  300063 non-null  int64\n",
      "dtypes: int64(3)\n",
      "memory usage: 6.9 MB\n",
      "\n"
     ]
    }
   ],
   "source": [
    "def printDfInfo(df, name):\n",
    "    print(\"{} dataframe:\".format(name))\n",
    "    df.info()\n",
    "    #print(df.head())\n",
    "    print()\n",
    "    \n",
    "printDfInfo(dfReviews, \"Reviews\")\n",
    "printDfInfo(dfLinks, \"Links\")\n",
    "printDfInfo(dfMovies, \"Movies\")\n",
    "printDfInfo(dfTrain, \"Training\")\n",
    "printDfInfo(dfTest, \"Test\")\n"
   ]
  },
  {
   "cell_type": "markdown",
   "id": "7c56a7b2",
   "metadata": {},
   "source": [
    "### Step 1:  Data Wrangling\n",
    "Although the links.csv file does provide for linking between the Movies and Reviews files, the format of the each of the files uses is different.  The imdbId and movie_id, from Links and Reviews respectively, hold the mapping field but Links uses a numeric field, int64, and Reviews an object. Further complicating this is the Reviews file stores the field with a prepended with a \"tt\" and sometimes a leading 0 as well"
   ]
  },
  {
   "cell_type": "code",
   "execution_count": 4,
   "id": "4c0f109a",
   "metadata": {},
   "outputs": [
    {
     "data": {
      "text/html": [
       "<div>\n",
       "<style scoped>\n",
       "    .dataframe tbody tr th:only-of-type {\n",
       "        vertical-align: middle;\n",
       "    }\n",
       "\n",
       "    .dataframe tbody tr th {\n",
       "        vertical-align: top;\n",
       "    }\n",
       "\n",
       "    .dataframe thead th {\n",
       "        text-align: right;\n",
       "    }\n",
       "</style>\n",
       "<table border=\"1\" class=\"dataframe\">\n",
       "  <thead>\n",
       "    <tr style=\"text-align: right;\">\n",
       "      <th></th>\n",
       "      <th>movieId</th>\n",
       "      <th>imdbId</th>\n",
       "      <th>tmdbId</th>\n",
       "    </tr>\n",
       "  </thead>\n",
       "  <tbody>\n",
       "    <tr>\n",
       "      <th>0</th>\n",
       "      <td>1</td>\n",
       "      <td>114709</td>\n",
       "      <td>862.0</td>\n",
       "    </tr>\n",
       "    <tr>\n",
       "      <th>1</th>\n",
       "      <td>2</td>\n",
       "      <td>113497</td>\n",
       "      <td>8844.0</td>\n",
       "    </tr>\n",
       "  </tbody>\n",
       "</table>\n",
       "</div>"
      ],
      "text/plain": [
       "   movieId  imdbId  tmdbId\n",
       "0        1  114709   862.0\n",
       "1        2  113497  8844.0"
      ]
     },
     "execution_count": 4,
     "metadata": {},
     "output_type": "execute_result"
    }
   ],
   "source": [
    "dfLinks.head(2)"
   ]
  },
  {
   "cell_type": "code",
   "execution_count": 5,
   "id": "cabc37ec",
   "metadata": {},
   "outputs": [
    {
     "data": {
      "text/html": [
       "<div>\n",
       "<style scoped>\n",
       "    .dataframe tbody tr th:only-of-type {\n",
       "        vertical-align: middle;\n",
       "    }\n",
       "\n",
       "    .dataframe tbody tr th {\n",
       "        vertical-align: top;\n",
       "    }\n",
       "\n",
       "    .dataframe thead th {\n",
       "        text-align: right;\n",
       "    }\n",
       "</style>\n",
       "<table border=\"1\" class=\"dataframe\">\n",
       "  <thead>\n",
       "    <tr style=\"text-align: right;\">\n",
       "      <th></th>\n",
       "      <th>review_date</th>\n",
       "      <th>movie_id</th>\n",
       "      <th>user_id</th>\n",
       "      <th>is_spoiler</th>\n",
       "      <th>review_text</th>\n",
       "      <th>rating</th>\n",
       "      <th>review_summary</th>\n",
       "    </tr>\n",
       "  </thead>\n",
       "  <tbody>\n",
       "    <tr>\n",
       "      <th>0</th>\n",
       "      <td>10 February 2006</td>\n",
       "      <td>tt0111161</td>\n",
       "      <td>ur1898687</td>\n",
       "      <td>True</td>\n",
       "      <td>In its Oscar year, Shawshank Redemption (written and directed by Frank Darabont, after the novella Rita Hayworth and the Shawshank Redemption, by Stephen King) was nominated for seven Academy Awards, and walked away with zero. Best Picture went to Forrest Gump, while Shawshank and Pulp Fiction were \"just happy to be nominated.\" Of course hindsight is 20/20, but while history looks back on Gump as a good film, Pulp and Redemption are remembered as some of the all-time best. Pulp, however, was a success from the word \"go,\" making a huge splash at Cannes and making its writer-director an American master after only two films. For Andy Dufresne and Co., success didn't come easy. Fortunately, failure wasn't a life sentence.After opening on 33 screens with take of $727,327, the $25M film fell fast from theatres and finished with a mere $28.3M. The reasons for failure are many. Firstly, the title is a clunker. While iconic to fans today, in 1994, people knew not and cared not what a 'Shawshank' was. On the DVD, Tim Robbins laughs recounting fans congratulating him on \"that 'Rickshaw' movie.\" Marketing-wise, the film's a nightmare, as 'prison drama' is a tough sell to women, and the story of love between two best friends doesn't spell winner to men. Worst of all, the movie is slow as molasses. As Desson Thomson writes for the Washington Post, \"it wanders down subplots at every opportunity and ignores an abundance of narrative exit points before settling on its finale.\" But it is these same weaknesses that make the film so strong.Firstly, its setting. The opening aerial shots of the prison are a total eye-opener. This is an amazing piece of architecture, strong and Gothic in design. Immediately, the prison becomes a character. It casts its shadow over most of the film, its tall stone walls stretching above every shot. It towers over the men it contains, blotting out all memories of the outside world. Only Andy (Robbins) holds onto hope. It's in music, it's in the sandy beaches of Zihuatanejo; \"In here's where you need it most,\" he says. \"You need it so you don't forget. Forget that there are places in the world that aren't made out of stone. That there's a - there's a - there's something inside that's yours, that they can't touch.\" Red (Morgan Freeman) doesn't think much of Andy at first, picking \"that tall glass o' milk with the silver spoon up his ass\" as the first new fish to crack. Andy says not a word, and losing his bet, Red resents him for it. But over time, as the two get to know each other, they quickly become the best of friends. This again, is one of the film's major strengths. Many movies are about love, many flicks have a side-kick to the hero, but Shawshank is the only one I can think of that looks honestly at the love between two best friends. It seems odd that Hollywood would skip this relationship time and again, when it's a feeling that weighs so much into everyone's day to day lives. Perhaps it's too sentimental to seem conventional, but Shawshank's core friendship hits all the right notes, and the film is much better for it.It's pacing is deliberate as well. As we spend the film watching the same actors, it is easy to forget that the movie's timeline spans well over 20 years. Such a huge measure of time would pass slowly in reality, and would only be amplified in prison. And it's not as if the film lacks interest in these moments. It still knows where it's going, it merely intends on taking its sweet time getting there. It pays off as well, as the tedium of prison life makes the climax that much more exhilarating. For anyone who sees it, it is a moment never to be forgotten.With themes of faith and hope, there is a definite religious subtext to be found here. Quiet, selfless and carefree, Andy is an obvious Christ figure. Warden Norton (Bob Gunton) is obviously modeled on Richard Nixon, who, in his day, was as close to a personified Satan as they come. But if you aren't looking for subtexts, the movie speaks to anyone in search of hope. It is a compelling drama, and a very moving film, perfectly written, acted and shot. They just don't come much better than this.OVERALL SCORE: 9.8/10 = A+ The Shawshank Redemption served as a message of hope to Hollywood as well. More than any film in memory, it proved there is life after box office. Besting Forrest and Fiction, it ran solely on strong word of mouth and became the hottest rented film of 1995. It currently sits at #2 in the IMDb's Top 250 Films, occasionally swapping spots with The Godfather as the top ranked film of all time -- redemption indeed. If you haven't seen it yet, what the hell are you waiting for? As Andy says, \"It comes down a simple choice, really. Either get busy living, or get busy dying.\"</td>\n",
       "      <td>10</td>\n",
       "      <td>A classic piece of unforgettable film-making.</td>\n",
       "    </tr>\n",
       "    <tr>\n",
       "      <th>1</th>\n",
       "      <td>6 September 2000</td>\n",
       "      <td>tt0111161</td>\n",
       "      <td>ur0842118</td>\n",
       "      <td>True</td>\n",
       "      <td>The Shawshank Redemption is without a doubt one of the most brilliant movies I have ever seen. Similar to The Green Mile in many respects (and better than it in almost all of them), these two movies have shown us that Stephen King is a master not only of horror but also of prose that shakes the soul and moves the heart. The plot is average, but King did great things with it in his novella that are only furthered by the direction, and the acting is so top-rate it's almost scary.Tim Robbins plays Andy Dufrane, wrongly imprisoned for 20 years for the murder of his wife. The story focuses on Andy's relationship with \"Red\" Redding (Morgan Freeman, in probably his best role) and his attempts to escape from Shawshank. Bob Gunton is positively evil and frightening as Warden Norton, and there are great performances and cameos all around; the most prominent one being Gil Bellows (late as Billy of Ally McBeal) as Tommy, a fellow inmate of Andy's who suffers under the iron will of Norton.If you haven't seen this movie, GO AND RENT IT NOW. You will not be disappointed. It is positively the best movie of the '90's, and one of my Top 3 of all time. This movie is a spectacle to move the mind, soul, and heart. 10/10</td>\n",
       "      <td>10</td>\n",
       "      <td>Simply amazing. The best film of the 90's.</td>\n",
       "    </tr>\n",
       "  </tbody>\n",
       "</table>\n",
       "</div>"
      ],
      "text/plain": [
       "        review_date   movie_id    user_id  is_spoiler  \\\n",
       "0  10 February 2006  tt0111161  ur1898687        True   \n",
       "1  6 September 2000  tt0111161  ur0842118        True   \n",
       "\n",
       "                                                                                                                                                                                                                                                                                                                                                                                                                                                                                                                                                                                                                                                                                                                                                                                                                                                                                                                                                                                                                                                                                                                                                                                                                                                                                                                                                                                                                                                                                                                                                                                                                                                                                                                                                                                                                                                                                                                                                                                                                                                                                                                                                                                                                                                                                                                                                                                                                                                                                                                                                                                                                                                                                                                                                                                                                                                                                                                                                                                                                                                                                                                                                                                                                                                                                                                                                                                                                                                                                                                                                                                                                                                                                                                                                                                                                                                                                                                                                                                                                                                                                                                                                                                                                                                                                                                                                                                                                                                                                                                                                                                                                                                                                                                                                                                                                                                                                                                                       review_text  \\\n",
       "0  In its Oscar year, Shawshank Redemption (written and directed by Frank Darabont, after the novella Rita Hayworth and the Shawshank Redemption, by Stephen King) was nominated for seven Academy Awards, and walked away with zero. Best Picture went to Forrest Gump, while Shawshank and Pulp Fiction were \"just happy to be nominated.\" Of course hindsight is 20/20, but while history looks back on Gump as a good film, Pulp and Redemption are remembered as some of the all-time best. Pulp, however, was a success from the word \"go,\" making a huge splash at Cannes and making its writer-director an American master after only two films. For Andy Dufresne and Co., success didn't come easy. Fortunately, failure wasn't a life sentence.After opening on 33 screens with take of $727,327, the $25M film fell fast from theatres and finished with a mere $28.3M. The reasons for failure are many. Firstly, the title is a clunker. While iconic to fans today, in 1994, people knew not and cared not what a 'Shawshank' was. On the DVD, Tim Robbins laughs recounting fans congratulating him on \"that 'Rickshaw' movie.\" Marketing-wise, the film's a nightmare, as 'prison drama' is a tough sell to women, and the story of love between two best friends doesn't spell winner to men. Worst of all, the movie is slow as molasses. As Desson Thomson writes for the Washington Post, \"it wanders down subplots at every opportunity and ignores an abundance of narrative exit points before settling on its finale.\" But it is these same weaknesses that make the film so strong.Firstly, its setting. The opening aerial shots of the prison are a total eye-opener. This is an amazing piece of architecture, strong and Gothic in design. Immediately, the prison becomes a character. It casts its shadow over most of the film, its tall stone walls stretching above every shot. It towers over the men it contains, blotting out all memories of the outside world. Only Andy (Robbins) holds onto hope. It's in music, it's in the sandy beaches of Zihuatanejo; \"In here's where you need it most,\" he says. \"You need it so you don't forget. Forget that there are places in the world that aren't made out of stone. That there's a - there's a - there's something inside that's yours, that they can't touch.\" Red (Morgan Freeman) doesn't think much of Andy at first, picking \"that tall glass o' milk with the silver spoon up his ass\" as the first new fish to crack. Andy says not a word, and losing his bet, Red resents him for it. But over time, as the two get to know each other, they quickly become the best of friends. This again, is one of the film's major strengths. Many movies are about love, many flicks have a side-kick to the hero, but Shawshank is the only one I can think of that looks honestly at the love between two best friends. It seems odd that Hollywood would skip this relationship time and again, when it's a feeling that weighs so much into everyone's day to day lives. Perhaps it's too sentimental to seem conventional, but Shawshank's core friendship hits all the right notes, and the film is much better for it.It's pacing is deliberate as well. As we spend the film watching the same actors, it is easy to forget that the movie's timeline spans well over 20 years. Such a huge measure of time would pass slowly in reality, and would only be amplified in prison. And it's not as if the film lacks interest in these moments. It still knows where it's going, it merely intends on taking its sweet time getting there. It pays off as well, as the tedium of prison life makes the climax that much more exhilarating. For anyone who sees it, it is a moment never to be forgotten.With themes of faith and hope, there is a definite religious subtext to be found here. Quiet, selfless and carefree, Andy is an obvious Christ figure. Warden Norton (Bob Gunton) is obviously modeled on Richard Nixon, who, in his day, was as close to a personified Satan as they come. But if you aren't looking for subtexts, the movie speaks to anyone in search of hope. It is a compelling drama, and a very moving film, perfectly written, acted and shot. They just don't come much better than this.OVERALL SCORE: 9.8/10 = A+ The Shawshank Redemption served as a message of hope to Hollywood as well. More than any film in memory, it proved there is life after box office. Besting Forrest and Fiction, it ran solely on strong word of mouth and became the hottest rented film of 1995. It currently sits at #2 in the IMDb's Top 250 Films, occasionally swapping spots with The Godfather as the top ranked film of all time -- redemption indeed. If you haven't seen it yet, what the hell are you waiting for? As Andy says, \"It comes down a simple choice, really. Either get busy living, or get busy dying.\"   \n",
       "1                                                                                                                                                                                                                                                                                                                                                                                                                                                                                                                                                                                                                                                                                                                                                                                                                                                                                                                                                                                                                                                                                                                                                                                                                                                                                                                                                                                                                                                                                                                                                                                                                                                                                                                                                                                                                                                                                                                                                                                                                                                                                                                                                                                                                                                                                                                                                                                                                                                                                                                                                                                                                                                                                                                                                                                                                                                                                                                                                                                                                                                                                                                                                                                                                                                                                                                                                                                                                                                                                                                                                                                                                                                                               The Shawshank Redemption is without a doubt one of the most brilliant movies I have ever seen. Similar to The Green Mile in many respects (and better than it in almost all of them), these two movies have shown us that Stephen King is a master not only of horror but also of prose that shakes the soul and moves the heart. The plot is average, but King did great things with it in his novella that are only furthered by the direction, and the acting is so top-rate it's almost scary.Tim Robbins plays Andy Dufrane, wrongly imprisoned for 20 years for the murder of his wife. The story focuses on Andy's relationship with \"Red\" Redding (Morgan Freeman, in probably his best role) and his attempts to escape from Shawshank. Bob Gunton is positively evil and frightening as Warden Norton, and there are great performances and cameos all around; the most prominent one being Gil Bellows (late as Billy of Ally McBeal) as Tommy, a fellow inmate of Andy's who suffers under the iron will of Norton.If you haven't seen this movie, GO AND RENT IT NOW. You will not be disappointed. It is positively the best movie of the '90's, and one of my Top 3 of all time. This movie is a spectacle to move the mind, soul, and heart. 10/10   \n",
       "\n",
       "   rating                                 review_summary  \n",
       "0      10  A classic piece of unforgettable film-making.  \n",
       "1      10     Simply amazing. The best film of the 90's.  "
      ]
     },
     "execution_count": 5,
     "metadata": {},
     "output_type": "execute_result"
    }
   ],
   "source": [
    "dfReviews.head(2)\n"
   ]
  },
  {
   "cell_type": "markdown",
   "id": "811a1974",
   "metadata": {},
   "source": [
    "The following cell strips the leading \"tt\" and the conversion to an int64 will drop a leading 0 if present.  This modified field is then inserted into the Reviews dataframe as an int64 named \"imdbId\" to match the field name in Links"
   ]
  },
  {
   "cell_type": "code",
   "execution_count": 6,
   "id": "d544b760",
   "metadata": {},
   "outputs": [
    {
     "data": {
      "text/html": [
       "<div>\n",
       "<style scoped>\n",
       "    .dataframe tbody tr th:only-of-type {\n",
       "        vertical-align: middle;\n",
       "    }\n",
       "\n",
       "    .dataframe tbody tr th {\n",
       "        vertical-align: top;\n",
       "    }\n",
       "\n",
       "    .dataframe thead th {\n",
       "        text-align: right;\n",
       "    }\n",
       "</style>\n",
       "<table border=\"1\" class=\"dataframe\">\n",
       "  <thead>\n",
       "    <tr style=\"text-align: right;\">\n",
       "      <th></th>\n",
       "      <th>review_date</th>\n",
       "      <th>imdbId</th>\n",
       "      <th>movie_id</th>\n",
       "      <th>user_id</th>\n",
       "      <th>is_spoiler</th>\n",
       "      <th>review_text</th>\n",
       "      <th>rating</th>\n",
       "      <th>review_summary</th>\n",
       "    </tr>\n",
       "  </thead>\n",
       "  <tbody>\n",
       "    <tr>\n",
       "      <th>0</th>\n",
       "      <td>10 February 2006</td>\n",
       "      <td>111161</td>\n",
       "      <td>tt0111161</td>\n",
       "      <td>ur1898687</td>\n",
       "      <td>True</td>\n",
       "      <td>In its Oscar year, Shawshank Redemption (written and directed by Frank Darabont, after the novella Rita Hayworth and the Shawshank Redemption, by Stephen King) was nominated for seven Academy Awards, and walked away with zero. Best Picture went to Forrest Gump, while Shawshank and Pulp Fiction were \"just happy to be nominated.\" Of course hindsight is 20/20, but while history looks back on Gump as a good film, Pulp and Redemption are remembered as some of the all-time best. Pulp, however, was a success from the word \"go,\" making a huge splash at Cannes and making its writer-director an American master after only two films. For Andy Dufresne and Co., success didn't come easy. Fortunately, failure wasn't a life sentence.After opening on 33 screens with take of $727,327, the $25M film fell fast from theatres and finished with a mere $28.3M. The reasons for failure are many. Firstly, the title is a clunker. While iconic to fans today, in 1994, people knew not and cared not what a 'Shawshank' was. On the DVD, Tim Robbins laughs recounting fans congratulating him on \"that 'Rickshaw' movie.\" Marketing-wise, the film's a nightmare, as 'prison drama' is a tough sell to women, and the story of love between two best friends doesn't spell winner to men. Worst of all, the movie is slow as molasses. As Desson Thomson writes for the Washington Post, \"it wanders down subplots at every opportunity and ignores an abundance of narrative exit points before settling on its finale.\" But it is these same weaknesses that make the film so strong.Firstly, its setting. The opening aerial shots of the prison are a total eye-opener. This is an amazing piece of architecture, strong and Gothic in design. Immediately, the prison becomes a character. It casts its shadow over most of the film, its tall stone walls stretching above every shot. It towers over the men it contains, blotting out all memories of the outside world. Only Andy (Robbins) holds onto hope. It's in music, it's in the sandy beaches of Zihuatanejo; \"In here's where you need it most,\" he says. \"You need it so you don't forget. Forget that there are places in the world that aren't made out of stone. That there's a - there's a - there's something inside that's yours, that they can't touch.\" Red (Morgan Freeman) doesn't think much of Andy at first, picking \"that tall glass o' milk with the silver spoon up his ass\" as the first new fish to crack. Andy says not a word, and losing his bet, Red resents him for it. But over time, as the two get to know each other, they quickly become the best of friends. This again, is one of the film's major strengths. Many movies are about love, many flicks have a side-kick to the hero, but Shawshank is the only one I can think of that looks honestly at the love between two best friends. It seems odd that Hollywood would skip this relationship time and again, when it's a feeling that weighs so much into everyone's day to day lives. Perhaps it's too sentimental to seem conventional, but Shawshank's core friendship hits all the right notes, and the film is much better for it.It's pacing is deliberate as well. As we spend the film watching the same actors, it is easy to forget that the movie's timeline spans well over 20 years. Such a huge measure of time would pass slowly in reality, and would only be amplified in prison. And it's not as if the film lacks interest in these moments. It still knows where it's going, it merely intends on taking its sweet time getting there. It pays off as well, as the tedium of prison life makes the climax that much more exhilarating. For anyone who sees it, it is a moment never to be forgotten.With themes of faith and hope, there is a definite religious subtext to be found here. Quiet, selfless and carefree, Andy is an obvious Christ figure. Warden Norton (Bob Gunton) is obviously modeled on Richard Nixon, who, in his day, was as close to a personified Satan as they come. But if you aren't looking for subtexts, the movie speaks to anyone in search of hope. It is a compelling drama, and a very moving film, perfectly written, acted and shot. They just don't come much better than this.OVERALL SCORE: 9.8/10 = A+ The Shawshank Redemption served as a message of hope to Hollywood as well. More than any film in memory, it proved there is life after box office. Besting Forrest and Fiction, it ran solely on strong word of mouth and became the hottest rented film of 1995. It currently sits at #2 in the IMDb's Top 250 Films, occasionally swapping spots with The Godfather as the top ranked film of all time -- redemption indeed. If you haven't seen it yet, what the hell are you waiting for? As Andy says, \"It comes down a simple choice, really. Either get busy living, or get busy dying.\"</td>\n",
       "      <td>10</td>\n",
       "      <td>A classic piece of unforgettable film-making.</td>\n",
       "    </tr>\n",
       "    <tr>\n",
       "      <th>1</th>\n",
       "      <td>6 September 2000</td>\n",
       "      <td>111161</td>\n",
       "      <td>tt0111161</td>\n",
       "      <td>ur0842118</td>\n",
       "      <td>True</td>\n",
       "      <td>The Shawshank Redemption is without a doubt one of the most brilliant movies I have ever seen. Similar to The Green Mile in many respects (and better than it in almost all of them), these two movies have shown us that Stephen King is a master not only of horror but also of prose that shakes the soul and moves the heart. The plot is average, but King did great things with it in his novella that are only furthered by the direction, and the acting is so top-rate it's almost scary.Tim Robbins plays Andy Dufrane, wrongly imprisoned for 20 years for the murder of his wife. The story focuses on Andy's relationship with \"Red\" Redding (Morgan Freeman, in probably his best role) and his attempts to escape from Shawshank. Bob Gunton is positively evil and frightening as Warden Norton, and there are great performances and cameos all around; the most prominent one being Gil Bellows (late as Billy of Ally McBeal) as Tommy, a fellow inmate of Andy's who suffers under the iron will of Norton.If you haven't seen this movie, GO AND RENT IT NOW. You will not be disappointed. It is positively the best movie of the '90's, and one of my Top 3 of all time. This movie is a spectacle to move the mind, soul, and heart. 10/10</td>\n",
       "      <td>10</td>\n",
       "      <td>Simply amazing. The best film of the 90's.</td>\n",
       "    </tr>\n",
       "  </tbody>\n",
       "</table>\n",
       "</div>"
      ],
      "text/plain": [
       "        review_date  imdbId   movie_id    user_id  is_spoiler  \\\n",
       "0  10 February 2006  111161  tt0111161  ur1898687        True   \n",
       "1  6 September 2000  111161  tt0111161  ur0842118        True   \n",
       "\n",
       "                                                                                                                                                                                                                                                                                                                                                                                                                                                                                                                                                                                                                                                                                                                                                                                                                                                                                                                                                                                                                                                                                                                                                                                                                                                                                                                                                                                                                                                                                                                                                                                                                                                                                                                                                                                                                                                                                                                                                                                                                                                                                                                                                                                                                                                                                                                                                                                                                                                                                                                                                                                                                                                                                                                                                                                                                                                                                                                                                                                                                                                                                                                                                                                                                                                                                                                                                                                                                                                                                                                                                                                                                                                                                                                                                                                                                                                                                                                                                                                                                                                                                                                                                                                                                                                                                                                                                                                                                                                                                                                                                                                                                                                                                                                                                                                                                                                                                                                                       review_text  \\\n",
       "0  In its Oscar year, Shawshank Redemption (written and directed by Frank Darabont, after the novella Rita Hayworth and the Shawshank Redemption, by Stephen King) was nominated for seven Academy Awards, and walked away with zero. Best Picture went to Forrest Gump, while Shawshank and Pulp Fiction were \"just happy to be nominated.\" Of course hindsight is 20/20, but while history looks back on Gump as a good film, Pulp and Redemption are remembered as some of the all-time best. Pulp, however, was a success from the word \"go,\" making a huge splash at Cannes and making its writer-director an American master after only two films. For Andy Dufresne and Co., success didn't come easy. Fortunately, failure wasn't a life sentence.After opening on 33 screens with take of $727,327, the $25M film fell fast from theatres and finished with a mere $28.3M. The reasons for failure are many. Firstly, the title is a clunker. While iconic to fans today, in 1994, people knew not and cared not what a 'Shawshank' was. On the DVD, Tim Robbins laughs recounting fans congratulating him on \"that 'Rickshaw' movie.\" Marketing-wise, the film's a nightmare, as 'prison drama' is a tough sell to women, and the story of love between two best friends doesn't spell winner to men. Worst of all, the movie is slow as molasses. As Desson Thomson writes for the Washington Post, \"it wanders down subplots at every opportunity and ignores an abundance of narrative exit points before settling on its finale.\" But it is these same weaknesses that make the film so strong.Firstly, its setting. The opening aerial shots of the prison are a total eye-opener. This is an amazing piece of architecture, strong and Gothic in design. Immediately, the prison becomes a character. It casts its shadow over most of the film, its tall stone walls stretching above every shot. It towers over the men it contains, blotting out all memories of the outside world. Only Andy (Robbins) holds onto hope. It's in music, it's in the sandy beaches of Zihuatanejo; \"In here's where you need it most,\" he says. \"You need it so you don't forget. Forget that there are places in the world that aren't made out of stone. That there's a - there's a - there's something inside that's yours, that they can't touch.\" Red (Morgan Freeman) doesn't think much of Andy at first, picking \"that tall glass o' milk with the silver spoon up his ass\" as the first new fish to crack. Andy says not a word, and losing his bet, Red resents him for it. But over time, as the two get to know each other, they quickly become the best of friends. This again, is one of the film's major strengths. Many movies are about love, many flicks have a side-kick to the hero, but Shawshank is the only one I can think of that looks honestly at the love between two best friends. It seems odd that Hollywood would skip this relationship time and again, when it's a feeling that weighs so much into everyone's day to day lives. Perhaps it's too sentimental to seem conventional, but Shawshank's core friendship hits all the right notes, and the film is much better for it.It's pacing is deliberate as well. As we spend the film watching the same actors, it is easy to forget that the movie's timeline spans well over 20 years. Such a huge measure of time would pass slowly in reality, and would only be amplified in prison. And it's not as if the film lacks interest in these moments. It still knows where it's going, it merely intends on taking its sweet time getting there. It pays off as well, as the tedium of prison life makes the climax that much more exhilarating. For anyone who sees it, it is a moment never to be forgotten.With themes of faith and hope, there is a definite religious subtext to be found here. Quiet, selfless and carefree, Andy is an obvious Christ figure. Warden Norton (Bob Gunton) is obviously modeled on Richard Nixon, who, in his day, was as close to a personified Satan as they come. But if you aren't looking for subtexts, the movie speaks to anyone in search of hope. It is a compelling drama, and a very moving film, perfectly written, acted and shot. They just don't come much better than this.OVERALL SCORE: 9.8/10 = A+ The Shawshank Redemption served as a message of hope to Hollywood as well. More than any film in memory, it proved there is life after box office. Besting Forrest and Fiction, it ran solely on strong word of mouth and became the hottest rented film of 1995. It currently sits at #2 in the IMDb's Top 250 Films, occasionally swapping spots with The Godfather as the top ranked film of all time -- redemption indeed. If you haven't seen it yet, what the hell are you waiting for? As Andy says, \"It comes down a simple choice, really. Either get busy living, or get busy dying.\"   \n",
       "1                                                                                                                                                                                                                                                                                                                                                                                                                                                                                                                                                                                                                                                                                                                                                                                                                                                                                                                                                                                                                                                                                                                                                                                                                                                                                                                                                                                                                                                                                                                                                                                                                                                                                                                                                                                                                                                                                                                                                                                                                                                                                                                                                                                                                                                                                                                                                                                                                                                                                                                                                                                                                                                                                                                                                                                                                                                                                                                                                                                                                                                                                                                                                                                                                                                                                                                                                                                                                                                                                                                                                                                                                                                                               The Shawshank Redemption is without a doubt one of the most brilliant movies I have ever seen. Similar to The Green Mile in many respects (and better than it in almost all of them), these two movies have shown us that Stephen King is a master not only of horror but also of prose that shakes the soul and moves the heart. The plot is average, but King did great things with it in his novella that are only furthered by the direction, and the acting is so top-rate it's almost scary.Tim Robbins plays Andy Dufrane, wrongly imprisoned for 20 years for the murder of his wife. The story focuses on Andy's relationship with \"Red\" Redding (Morgan Freeman, in probably his best role) and his attempts to escape from Shawshank. Bob Gunton is positively evil and frightening as Warden Norton, and there are great performances and cameos all around; the most prominent one being Gil Bellows (late as Billy of Ally McBeal) as Tommy, a fellow inmate of Andy's who suffers under the iron will of Norton.If you haven't seen this movie, GO AND RENT IT NOW. You will not be disappointed. It is positively the best movie of the '90's, and one of my Top 3 of all time. This movie is a spectacle to move the mind, soul, and heart. 10/10   \n",
       "\n",
       "   rating                                 review_summary  \n",
       "0      10  A classic piece of unforgettable film-making.  \n",
       "1      10     Simply amazing. The best film of the 90's.  "
      ]
     },
     "execution_count": 6,
     "metadata": {},
     "output_type": "execute_result"
    }
   ],
   "source": [
    "# Add imdbId column to dfReviews\n",
    "dfReviews.insert(1, \"imdbId\", np.int64(dfReviews.movie_id.str.strip('tt')), True)\n",
    "dfReviews.head(2)\n"
   ]
  },
  {
   "cell_type": "markdown",
   "id": "1ae68f41",
   "metadata": {},
   "source": [
    "Now that the Movies and Reviews dataframes can be linked with a uniform field via the Links dataframe, many of the fields in both Reviews and Movies can be dropped. Note that the rating field from Reviews is one of the columns being dropped so it will be impossible for ratings to influence the machine learning model."
   ]
  },
  {
   "cell_type": "code",
   "execution_count": 7,
   "id": "9f5c2ba8",
   "metadata": {},
   "outputs": [
    {
     "data": {
      "text/html": [
       "<div>\n",
       "<style scoped>\n",
       "    .dataframe tbody tr th:only-of-type {\n",
       "        vertical-align: middle;\n",
       "    }\n",
       "\n",
       "    .dataframe tbody tr th {\n",
       "        vertical-align: top;\n",
       "    }\n",
       "\n",
       "    .dataframe thead th {\n",
       "        text-align: right;\n",
       "    }\n",
       "</style>\n",
       "<table border=\"1\" class=\"dataframe\">\n",
       "  <thead>\n",
       "    <tr style=\"text-align: right;\">\n",
       "      <th></th>\n",
       "      <th>imdbId</th>\n",
       "      <th>review_text</th>\n",
       "    </tr>\n",
       "  </thead>\n",
       "  <tbody>\n",
       "    <tr>\n",
       "      <th>0</th>\n",
       "      <td>111161</td>\n",
       "      <td>In its Oscar year, Shawshank Redemption (written and directed by Frank Darabont, after the novella Rita Hayworth and the Shawshank Redemption, by Stephen King) was nominated for seven Academy Awards, and walked away with zero. Best Picture went to Forrest Gump, while Shawshank and Pulp Fiction were \"just happy to be nominated.\" Of course hindsight is 20/20, but while history looks back on Gump as a good film, Pulp and Redemption are remembered as some of the all-time best. Pulp, however, was a success from the word \"go,\" making a huge splash at Cannes and making its writer-director an American master after only two films. For Andy Dufresne and Co., success didn't come easy. Fortunately, failure wasn't a life sentence.After opening on 33 screens with take of $727,327, the $25M film fell fast from theatres and finished with a mere $28.3M. The reasons for failure are many. Firstly, the title is a clunker. While iconic to fans today, in 1994, people knew not and cared not what a 'Shawshank' was. On the DVD, Tim Robbins laughs recounting fans congratulating him on \"that 'Rickshaw' movie.\" Marketing-wise, the film's a nightmare, as 'prison drama' is a tough sell to women, and the story of love between two best friends doesn't spell winner to men. Worst of all, the movie is slow as molasses. As Desson Thomson writes for the Washington Post, \"it wanders down subplots at every opportunity and ignores an abundance of narrative exit points before settling on its finale.\" But it is these same weaknesses that make the film so strong.Firstly, its setting. The opening aerial shots of the prison are a total eye-opener. This is an amazing piece of architecture, strong and Gothic in design. Immediately, the prison becomes a character. It casts its shadow over most of the film, its tall stone walls stretching above every shot. It towers over the men it contains, blotting out all memories of the outside world. Only Andy (Robbins) holds onto hope. It's in music, it's in the sandy beaches of Zihuatanejo; \"In here's where you need it most,\" he says. \"You need it so you don't forget. Forget that there are places in the world that aren't made out of stone. That there's a - there's a - there's something inside that's yours, that they can't touch.\" Red (Morgan Freeman) doesn't think much of Andy at first, picking \"that tall glass o' milk with the silver spoon up his ass\" as the first new fish to crack. Andy says not a word, and losing his bet, Red resents him for it. But over time, as the two get to know each other, they quickly become the best of friends. This again, is one of the film's major strengths. Many movies are about love, many flicks have a side-kick to the hero, but Shawshank is the only one I can think of that looks honestly at the love between two best friends. It seems odd that Hollywood would skip this relationship time and again, when it's a feeling that weighs so much into everyone's day to day lives. Perhaps it's too sentimental to seem conventional, but Shawshank's core friendship hits all the right notes, and the film is much better for it.It's pacing is deliberate as well. As we spend the film watching the same actors, it is easy to forget that the movie's timeline spans well over 20 years. Such a huge measure of time would pass slowly in reality, and would only be amplified in prison. And it's not as if the film lacks interest in these moments. It still knows where it's going, it merely intends on taking its sweet time getting there. It pays off as well, as the tedium of prison life makes the climax that much more exhilarating. For anyone who sees it, it is a moment never to be forgotten.With themes of faith and hope, there is a definite religious subtext to be found here. Quiet, selfless and carefree, Andy is an obvious Christ figure. Warden Norton (Bob Gunton) is obviously modeled on Richard Nixon, who, in his day, was as close to a personified Satan as they come. But if you aren't looking for subtexts, the movie speaks to anyone in search of hope. It is a compelling drama, and a very moving film, perfectly written, acted and shot. They just don't come much better than this.OVERALL SCORE: 9.8/10 = A+ The Shawshank Redemption served as a message of hope to Hollywood as well. More than any film in memory, it proved there is life after box office. Besting Forrest and Fiction, it ran solely on strong word of mouth and became the hottest rented film of 1995. It currently sits at #2 in the IMDb's Top 250 Films, occasionally swapping spots with The Godfather as the top ranked film of all time -- redemption indeed. If you haven't seen it yet, what the hell are you waiting for? As Andy says, \"It comes down a simple choice, really. Either get busy living, or get busy dying.\"</td>\n",
       "    </tr>\n",
       "    <tr>\n",
       "      <th>1</th>\n",
       "      <td>111161</td>\n",
       "      <td>The Shawshank Redemption is without a doubt one of the most brilliant movies I have ever seen. Similar to The Green Mile in many respects (and better than it in almost all of them), these two movies have shown us that Stephen King is a master not only of horror but also of prose that shakes the soul and moves the heart. The plot is average, but King did great things with it in his novella that are only furthered by the direction, and the acting is so top-rate it's almost scary.Tim Robbins plays Andy Dufrane, wrongly imprisoned for 20 years for the murder of his wife. The story focuses on Andy's relationship with \"Red\" Redding (Morgan Freeman, in probably his best role) and his attempts to escape from Shawshank. Bob Gunton is positively evil and frightening as Warden Norton, and there are great performances and cameos all around; the most prominent one being Gil Bellows (late as Billy of Ally McBeal) as Tommy, a fellow inmate of Andy's who suffers under the iron will of Norton.If you haven't seen this movie, GO AND RENT IT NOW. You will not be disappointed. It is positively the best movie of the '90's, and one of my Top 3 of all time. This movie is a spectacle to move the mind, soul, and heart. 10/10</td>\n",
       "    </tr>\n",
       "  </tbody>\n",
       "</table>\n",
       "</div>"
      ],
      "text/plain": [
       "   imdbId  \\\n",
       "0  111161   \n",
       "1  111161   \n",
       "\n",
       "                                                                                                                                                                                                                                                                                                                                                                                                                                                                                                                                                                                                                                                                                                                                                                                                                                                                                                                                                                                                                                                                                                                                                                                                                                                                                                                                                                                                                                                                                                                                                                                                                                                                                                                                                                                                                                                                                                                                                                                                                                                                                                                                                                                                                                                                                                                                                                                                                                                                                                                                                                                                                                                                                                                                                                                                                                                                                                                                                                                                                                                                                                                                                                                                                                                                                                                                                                                                                                                                                                                                                                                                                                                                                                                                                                                                                                                                                                                                                                                                                                                                                                                                                                                                                                                                                                                                                                                                                                                                                                                                                                                                                                                                                                                                                                                                                                                                                                                                       review_text  \n",
       "0  In its Oscar year, Shawshank Redemption (written and directed by Frank Darabont, after the novella Rita Hayworth and the Shawshank Redemption, by Stephen King) was nominated for seven Academy Awards, and walked away with zero. Best Picture went to Forrest Gump, while Shawshank and Pulp Fiction were \"just happy to be nominated.\" Of course hindsight is 20/20, but while history looks back on Gump as a good film, Pulp and Redemption are remembered as some of the all-time best. Pulp, however, was a success from the word \"go,\" making a huge splash at Cannes and making its writer-director an American master after only two films. For Andy Dufresne and Co., success didn't come easy. Fortunately, failure wasn't a life sentence.After opening on 33 screens with take of $727,327, the $25M film fell fast from theatres and finished with a mere $28.3M. The reasons for failure are many. Firstly, the title is a clunker. While iconic to fans today, in 1994, people knew not and cared not what a 'Shawshank' was. On the DVD, Tim Robbins laughs recounting fans congratulating him on \"that 'Rickshaw' movie.\" Marketing-wise, the film's a nightmare, as 'prison drama' is a tough sell to women, and the story of love between two best friends doesn't spell winner to men. Worst of all, the movie is slow as molasses. As Desson Thomson writes for the Washington Post, \"it wanders down subplots at every opportunity and ignores an abundance of narrative exit points before settling on its finale.\" But it is these same weaknesses that make the film so strong.Firstly, its setting. The opening aerial shots of the prison are a total eye-opener. This is an amazing piece of architecture, strong and Gothic in design. Immediately, the prison becomes a character. It casts its shadow over most of the film, its tall stone walls stretching above every shot. It towers over the men it contains, blotting out all memories of the outside world. Only Andy (Robbins) holds onto hope. It's in music, it's in the sandy beaches of Zihuatanejo; \"In here's where you need it most,\" he says. \"You need it so you don't forget. Forget that there are places in the world that aren't made out of stone. That there's a - there's a - there's something inside that's yours, that they can't touch.\" Red (Morgan Freeman) doesn't think much of Andy at first, picking \"that tall glass o' milk with the silver spoon up his ass\" as the first new fish to crack. Andy says not a word, and losing his bet, Red resents him for it. But over time, as the two get to know each other, they quickly become the best of friends. This again, is one of the film's major strengths. Many movies are about love, many flicks have a side-kick to the hero, but Shawshank is the only one I can think of that looks honestly at the love between two best friends. It seems odd that Hollywood would skip this relationship time and again, when it's a feeling that weighs so much into everyone's day to day lives. Perhaps it's too sentimental to seem conventional, but Shawshank's core friendship hits all the right notes, and the film is much better for it.It's pacing is deliberate as well. As we spend the film watching the same actors, it is easy to forget that the movie's timeline spans well over 20 years. Such a huge measure of time would pass slowly in reality, and would only be amplified in prison. And it's not as if the film lacks interest in these moments. It still knows where it's going, it merely intends on taking its sweet time getting there. It pays off as well, as the tedium of prison life makes the climax that much more exhilarating. For anyone who sees it, it is a moment never to be forgotten.With themes of faith and hope, there is a definite religious subtext to be found here. Quiet, selfless and carefree, Andy is an obvious Christ figure. Warden Norton (Bob Gunton) is obviously modeled on Richard Nixon, who, in his day, was as close to a personified Satan as they come. But if you aren't looking for subtexts, the movie speaks to anyone in search of hope. It is a compelling drama, and a very moving film, perfectly written, acted and shot. They just don't come much better than this.OVERALL SCORE: 9.8/10 = A+ The Shawshank Redemption served as a message of hope to Hollywood as well. More than any film in memory, it proved there is life after box office. Besting Forrest and Fiction, it ran solely on strong word of mouth and became the hottest rented film of 1995. It currently sits at #2 in the IMDb's Top 250 Films, occasionally swapping spots with The Godfather as the top ranked film of all time -- redemption indeed. If you haven't seen it yet, what the hell are you waiting for? As Andy says, \"It comes down a simple choice, really. Either get busy living, or get busy dying.\"  \n",
       "1                                                                                                                                                                                                                                                                                                                                                                                                                                                                                                                                                                                                                                                                                                                                                                                                                                                                                                                                                                                                                                                                                                                                                                                                                                                                                                                                                                                                                                                                                                                                                                                                                                                                                                                                                                                                                                                                                                                                                                                                                                                                                                                                                                                                                                                                                                                                                                                                                                                                                                                                                                                                                                                                                                                                                                                                                                                                                                                                                                                                                                                                                                                                                                                                                                                                                                                                                                                                                                                                                                                                                                                                                                                                               The Shawshank Redemption is without a doubt one of the most brilliant movies I have ever seen. Similar to The Green Mile in many respects (and better than it in almost all of them), these two movies have shown us that Stephen King is a master not only of horror but also of prose that shakes the soul and moves the heart. The plot is average, but King did great things with it in his novella that are only furthered by the direction, and the acting is so top-rate it's almost scary.Tim Robbins plays Andy Dufrane, wrongly imprisoned for 20 years for the murder of his wife. The story focuses on Andy's relationship with \"Red\" Redding (Morgan Freeman, in probably his best role) and his attempts to escape from Shawshank. Bob Gunton is positively evil and frightening as Warden Norton, and there are great performances and cameos all around; the most prominent one being Gil Bellows (late as Billy of Ally McBeal) as Tommy, a fellow inmate of Andy's who suffers under the iron will of Norton.If you haven't seen this movie, GO AND RENT IT NOW. You will not be disappointed. It is positively the best movie of the '90's, and one of my Top 3 of all time. This movie is a spectacle to move the mind, soul, and heart. 10/10  "
      ]
     },
     "execution_count": 7,
     "metadata": {},
     "output_type": "execute_result"
    }
   ],
   "source": [
    "# Drop unneeded columns from Reviews\n",
    "dfReviews.drop(['review_date', 'movie_id', 'user_id', 'is_spoiler', 'rating', 'review_summary'], axis = 1, inplace = True)\n",
    "dfReviews.head(2)"
   ]
  },
  {
   "cell_type": "code",
   "execution_count": 8,
   "id": "989ebd33",
   "metadata": {},
   "outputs": [
    {
     "data": {
      "text/html": [
       "<div>\n",
       "<style scoped>\n",
       "    .dataframe tbody tr th:only-of-type {\n",
       "        vertical-align: middle;\n",
       "    }\n",
       "\n",
       "    .dataframe tbody tr th {\n",
       "        vertical-align: top;\n",
       "    }\n",
       "\n",
       "    .dataframe thead th {\n",
       "        text-align: right;\n",
       "    }\n",
       "</style>\n",
       "<table border=\"1\" class=\"dataframe\">\n",
       "  <thead>\n",
       "    <tr style=\"text-align: right;\">\n",
       "      <th></th>\n",
       "      <th>mID</th>\n",
       "      <th>title</th>\n",
       "    </tr>\n",
       "  </thead>\n",
       "  <tbody>\n",
       "    <tr>\n",
       "      <th>0</th>\n",
       "      <td>1</td>\n",
       "      <td>Toy Story</td>\n",
       "    </tr>\n",
       "    <tr>\n",
       "      <th>1</th>\n",
       "      <td>2</td>\n",
       "      <td>Jumanji</td>\n",
       "    </tr>\n",
       "  </tbody>\n",
       "</table>\n",
       "</div>"
      ],
      "text/plain": [
       "   mID      title\n",
       "0    1  Toy Story\n",
       "1    2    Jumanji"
      ]
     },
     "execution_count": 8,
     "metadata": {},
     "output_type": "execute_result"
    }
   ],
   "source": [
    "# Drop unneeded columns from Movies\n",
    "dfMovies.drop(dfMovies.iloc[:, 2:21], axis = 1, inplace = True)\n",
    "dfMovies.head(2)\n"
   ]
  },
  {
   "cell_type": "markdown",
   "id": "7ac61ea9",
   "metadata": {},
   "source": [
    "Next we'll aggregate all the reviews for a given movie into a single string and then add that string into a new field in the Movies dataframe named \"all_reviews\".  \n",
    "  \n",
    "Once all the reviews have been added, any movies without reviews will be dropped from Movies."
   ]
  },
  {
   "cell_type": "code",
   "execution_count": 9,
   "id": "c2891387",
   "metadata": {},
   "outputs": [
    {
     "name": "stdout",
     "output_type": "stream",
     "text": [
      "<class 'pandas.core.frame.DataFrame'>\n",
      "Int64Index: 595 entries, 0 to 3879\n",
      "Data columns (total 3 columns):\n",
      " #   Column       Non-Null Count  Dtype \n",
      "---  ------       --------------  ----- \n",
      " 0   mID          595 non-null    int64 \n",
      " 1   title        595 non-null    object\n",
      " 2   all_reviews  595 non-null    object\n",
      "dtypes: int64(1), object(2)\n",
      "memory usage: 18.6+ KB\n"
     ]
    }
   ],
   "source": [
    "def collectReviews():\n",
    "    dfMovies['all_reviews'] = \"\"\n",
    "    for index in range(len(dfMovies)):\n",
    "        allReviews = \"\"\n",
    "        for imdbId in dfLinks[dfLinks.movieId == dfMovies.iloc[index, 0]].imdbId:\n",
    "            for review in dfReviews[dfReviews.imdbId == imdbId].review_text:#.to_string(index = False):\n",
    "                allReviews += (review + \" \")\n",
    "            if len(allReviews) > 10:\n",
    "                dfMovies.iloc[index, 2] = allReviews\n",
    "            else:\n",
    "                dfMovies.iloc[index, 2] = np.nan\n",
    "\n",
    "collectReviews()\n",
    "dfMovies.dropna(axis = 0, how = 'any', subset = [\"all_reviews\"], inplace = True)\n",
    "dfMovies.info()\n"
   ]
  },
  {
   "cell_type": "markdown",
   "id": "3e53551f",
   "metadata": {},
   "source": [
    "Of note is that originally Movies had 3,883 records but after dropping the films without reviews there are only 595 movies left.  This represents only 15% of the movies we originally had, but should still be sufficient to test how well user submitted reviews enable movie recommendations."
   ]
  },
  {
   "cell_type": "markdown",
   "id": "8772adaa",
   "metadata": {},
   "source": [
    "### Step 2: Exploratory Data Analysis, Visualizations, and Data Cleaning\n",
    "With only 15% of the movies remaining, a first check should be to see how many users a have reviewed films that remain. The reviews from both the the training and test datasets will be pruned to only those that remains in the Movies dataframe. Additionally, the two dataframes can be concatenated for ease of use as we are not training the model on any records in the train or test datasets."
   ]
  },
  {
   "cell_type": "code",
   "execution_count": 10,
   "id": "f85cd598",
   "metadata": {},
   "outputs": [
    {
     "data": {
      "text/html": [
       "<div>\n",
       "<style scoped>\n",
       "    .dataframe tbody tr th:only-of-type {\n",
       "        vertical-align: middle;\n",
       "    }\n",
       "\n",
       "    .dataframe tbody tr th {\n",
       "        vertical-align: top;\n",
       "    }\n",
       "\n",
       "    .dataframe thead th {\n",
       "        text-align: right;\n",
       "    }\n",
       "</style>\n",
       "<table border=\"1\" class=\"dataframe\">\n",
       "  <thead>\n",
       "    <tr style=\"text-align: right;\">\n",
       "      <th></th>\n",
       "      <th>uID</th>\n",
       "      <th>mID</th>\n",
       "      <th>rating</th>\n",
       "    </tr>\n",
       "  </thead>\n",
       "  <tbody>\n",
       "    <tr>\n",
       "      <th>0</th>\n",
       "      <td>744</td>\n",
       "      <td>1210</td>\n",
       "      <td>5</td>\n",
       "    </tr>\n",
       "    <tr>\n",
       "      <th>1</th>\n",
       "      <td>3040</td>\n",
       "      <td>1584</td>\n",
       "      <td>4</td>\n",
       "    </tr>\n",
       "    <tr>\n",
       "      <th>2</th>\n",
       "      <td>1451</td>\n",
       "      <td>1293</td>\n",
       "      <td>5</td>\n",
       "    </tr>\n",
       "    <tr>\n",
       "      <th>3</th>\n",
       "      <td>5455</td>\n",
       "      <td>3176</td>\n",
       "      <td>2</td>\n",
       "    </tr>\n",
       "    <tr>\n",
       "      <th>5</th>\n",
       "      <td>1465</td>\n",
       "      <td>1210</td>\n",
       "      <td>5</td>\n",
       "    </tr>\n",
       "    <tr>\n",
       "      <th>...</th>\n",
       "      <td>...</td>\n",
       "      <td>...</td>\n",
       "      <td>...</td>\n",
       "    </tr>\n",
       "    <tr>\n",
       "      <th>300051</th>\n",
       "      <td>3464</td>\n",
       "      <td>2424</td>\n",
       "      <td>4</td>\n",
       "    </tr>\n",
       "    <tr>\n",
       "      <th>300052</th>\n",
       "      <td>4271</td>\n",
       "      <td>1263</td>\n",
       "      <td>4</td>\n",
       "    </tr>\n",
       "    <tr>\n",
       "      <th>300053</th>\n",
       "      <td>1837</td>\n",
       "      <td>97</td>\n",
       "      <td>4</td>\n",
       "    </tr>\n",
       "    <tr>\n",
       "      <th>300057</th>\n",
       "      <td>5950</td>\n",
       "      <td>1584</td>\n",
       "      <td>3</td>\n",
       "    </tr>\n",
       "    <tr>\n",
       "      <th>300058</th>\n",
       "      <td>810</td>\n",
       "      <td>247</td>\n",
       "      <td>4</td>\n",
       "    </tr>\n",
       "  </tbody>\n",
       "</table>\n",
       "<p>430349 rows × 3 columns</p>\n",
       "</div>"
      ],
      "text/plain": [
       "         uID   mID  rating\n",
       "0        744  1210       5\n",
       "1       3040  1584       4\n",
       "2       1451  1293       5\n",
       "3       5455  3176       2\n",
       "5       1465  1210       5\n",
       "...      ...   ...     ...\n",
       "300051  3464  2424       4\n",
       "300052  4271  1263       4\n",
       "300053  1837    97       4\n",
       "300057  5950  1584       3\n",
       "300058   810   247       4\n",
       "\n",
       "[430349 rows x 3 columns]"
      ]
     },
     "metadata": {},
     "output_type": "display_data"
    }
   ],
   "source": [
    "dfTrain = dfTrain[dfTrain['mID'].isin(dfMovies['mID'])]\n",
    "dfTest = dfTest[dfTest['mID'].isin(dfMovies['mID'])]\n",
    "dfAllRatings = pd.concat([dfTrain, dfTest])\n",
    "display(dfAllRatings)\n"
   ]
  },
  {
   "cell_type": "markdown",
   "id": "e7d7b1c9",
   "metadata": {},
   "source": [
    "After removing user rating for movies no longer in the Movies dataframe, there are still 430,349 ratings that can test the recommendation engine.  Having a large number is very important, as not all reviewers will have reviewed enough movies to check their ratings against the recommendation engine.  \n",
    "  \n",
    "The next cell creates plots of the distribution of each user's average rating, the distribution of number of reviews each user has contributed, and the count of each rating."
   ]
  },
  {
   "cell_type": "code",
   "execution_count": 11,
   "id": "4367a2c4",
   "metadata": {},
   "outputs": [
    {
     "name": "stdout",
     "output_type": "stream",
     "text": [
      "Number of reviews with a rating of 5: 121358\n"
     ]
    },
    {
     "data": {
      "image/png": "[encoded data removed]",
      "text/plain": [
       "<Figure size 1440x504 with 3 Axes>"
      ]
     },
     "metadata": {
      "needs_background": "light"
     },
     "output_type": "display_data"
    }
   ],
   "source": [
    "print(\"Number of reviews with a rating of 5: {}\".format(len(dfAllRatings[dfAllRatings.rating == 5])))\n",
    "\n",
    "fig, (ax1, ax2, ax3) = plt.subplots(nrows = 1, ncols = 3)\n",
    "\n",
    "#ax1.plot(dfAllRatings.groupby('uID')['rating'].mean())\n",
    "ax1.violinplot(dfAllRatings.groupby('uID')['rating'].mean(), showmedians = True)\n",
    "ax1.set_title('Average Rating by User')\n",
    "\n",
    "ax2.violinplot(dfAllRatings.groupby('uID')['rating'].count(), showmedians = True)\n",
    "ax2.set_title('Distribution of Review Count by User')\n",
    "\n",
    "ax3.hist(dfAllRatings.rating, bins = range(1, 7), rwidth = 0.75)\n",
    "ax3.set_xticks(np.arange(1.5, 6.5), labels = range(1, 6))\n",
    "ax3.set_title('Count of Ratings')\n",
    "\n",
    "fig.set_figheight(7)\n",
    "fig.set_figwidth(20)\n",
    "plt.show()"
   ]
  },
  {
   "cell_type": "markdown",
   "id": "6f49cb8f",
   "metadata": {},
   "source": [
    "From the plot on the left, the mean and median average review is just under 4, the middle shows that most users that have contributed reviews have made several of them, and the last one shows a heavy skew toward the higher end of reviews. Even with this skew though there are still approximately 20,000 one star reviews to work with."
   ]
  },
  {
   "cell_type": "markdown",
   "id": "2e9240d4",
   "metadata": {},
   "source": [
    "The text of reviews will likely need some cleaning. First all numbers will be replaced an \"curly quotes\" replaced with a straight one."
   ]
  },
  {
   "cell_type": "code",
   "execution_count": 12,
   "id": "4a55d1d8",
   "metadata": {},
   "outputs": [],
   "source": [
    "dfMovies.all_reviews.replace(to_replace = \"’\", value = \"\\'\", inplace = True, regex = True)\n",
    "dfMovies.all_reviews.replace(to_replace = \"\\\\d+\", value = \"\", inplace = True, regex = True)\n"
   ]
  },
  {
   "cell_type": "markdown",
   "id": "5e955c72",
   "metadata": {},
   "source": [
    "To gain insight into the corpus of reviews, a CountVectorizer is used and then a plot made of the top 60 words."
   ]
  },
  {
   "cell_type": "code",
   "execution_count": 13,
   "id": "d68b7c9e",
   "metadata": {},
   "outputs": [
    {
     "data": {
      "image/png": "[encoded data removed]",
      "text/plain": [
       "<Figure size 1200x480 with 1 Axes>"
      ]
     },
     "metadata": {
      "needs_background": "light"
     },
     "output_type": "display_data"
    }
   ],
   "source": [
    "nTopWords = 60\n",
    "tf_vectorizer = CountVectorizer(max_df = 0.80, min_df = 2, max_features = nTopWords, stop_words = \"english\")\n",
    "tf = tf_vectorizer.fit_transform(dfMovies.all_reviews)     \n",
    "\n",
    "figure(figsize=(15, 6), dpi=80)\n",
    "plt.title(\"Top {} words\".format(nTopWords))\n",
    "plt.bar(x = tf_vectorizer.get_feature_names_out(), height = np.sum(tf.toarray(), axis=0))\n",
    "plt.xticks(rotation = 60)\n",
    "plt.show()\n"
   ]
  },
  {
   "cell_type": "markdown",
   "id": "3a75780e",
   "metadata": {},
   "source": [
    "From looking at the top 60 words, some data clean-up will be required. First all text will be made lower case and all first names in the top 60 words will be removed.  Additionally, \"sci\" and \"fi\" are being treated as separate words so they'll be made into a single word without a hyphen.\n"
   ]
  },
  {
   "cell_type": "code",
   "execution_count": 14,
   "id": "47977942",
   "metadata": {},
   "outputs": [],
   "source": [
    "dfMovies.all_reviews = dfMovies.all_reviews.transform(lambda review: review.lower())\n",
    "\n",
    "for word in (\"andy\", \"bruce\", \"david\", \"dr\", \"george\", \"jack\" \"james\", \"jim\", \\\n",
    "             \"kevin\", \"michael\", \"peter\", \"robert\", \"robin\", \"smith\", \"tim\", \"tom\"):\n",
    "    dfMovies.all_reviews.replace(to_replace = \"\\\\b\" + word + \"\\\\b\", value = \"\", inplace = True, regex = True)\n",
    "dfMovies.all_reviews.replace(to_replace = \"\\\\bsci.?fi\\\\b\", value = \"scifi\", inplace = True, regex = True)"
   ]
  },
  {
   "cell_type": "markdown",
   "id": "cfc366b6",
   "metadata": {},
   "source": [
    "### Step 3:  Modeling\n",
    "A Non-negative Matrix Factorization model was chosen for the unsupervised algorithm. The model was fitted using the \"kullback-leibler\" loss function and the \"mu\" solver and the input was a TfIdf fitted model of all the reviews.\n",
    "\n",
    "The n_components value was set to 18 as that was the number of genres in the original Movies dataset, but this can be chosen to be any value."
   ]
  },
  {
   "cell_type": "code",
   "execution_count": 15,
   "id": "29d092c0",
   "metadata": {},
   "outputs": [],
   "source": [
    "def fitNMF(tfidf, n_topicLabels, alpha, lossFunc, solverArg):\n",
    "    nmf = NMF(\n",
    "        n_components = n_topicLabels,\n",
    "        random_state = randomState,\n",
    "        init = \"nndsvda\",\n",
    "        beta_loss = lossFunc,\n",
    "        solver = solverArg,\n",
    "        max_iter = 1000,\n",
    "        alpha_W = alpha,\n",
    "        alpha_H = alpha,\n",
    "        l1_ratio = 0.5,\n",
    "    ).fit(tfidf)\n",
    "    return nmf\n",
    "\n",
    "nClusters = 18\n",
    "\n",
    "tfidf_vectorizer = TfidfVectorizer(max_df = 0.80, min_df = 2, max_features = 100, stop_words = \"english\")\n",
    "\n",
    "tfidfTrans = tfidf_vectorizer.fit_transform(dfMovies.all_reviews)\n",
    "nmfFit = fitNMF(tfidfTrans, nClusters, 0.00005, \"kullback-leibler\", \"mu\")\n",
    "\n",
    "nmfTrans = nmfFit.transform(tfidfTrans)\n"
   ]
  },
  {
   "cell_type": "code",
   "execution_count": 16,
   "id": "6abce633",
   "metadata": {},
   "outputs": [],
   "source": [
    "# A couple of helpful dictionaries for lookups\n",
    "mid2idx = dict(zip(dfMovies.mID, list(range(len(dfMovies)))))\n",
    "idx2Mid = dict(zip(list(range(len(dfMovies))), dfMovies.mID))\n"
   ]
  },
  {
   "cell_type": "markdown",
   "id": "21decaeb",
   "metadata": {},
   "source": [
    "With the NMF model fitted, similarities need to be computed. A cosine similarity was used after an experiment with Jaccard returned an indentity matrix.\n",
    "\n",
    "After similarities are computed, a quick check can be made as to how well the fitted model finds movies that are \"similar\" to a given movie.\n",
    "\n",
    "The findSimilar function required tuning before taking its final form. Initially the rankings were chosen based on dividing the possible cosine similarity number space into 5 evenly spaced categories (i.e. 0.8, 0.6, 0.4, 0.2, and 0.0). However, after examing the actual cosine similarity numbers, no values under 0.5 were seen.  In hindsight this makes sense as it would be difficult for the text of any movies review to be the \"opposite\" of another's without doing and extensive sentiment analysis (a completely different machine learning problem).  Even if such analysis was done, once all reviews for a movie were aggragated any analysis of an individual review is worthless.  \n",
    "  \n",
    "Instead, the brackets were modified to work with the actual cosine similarities (i.e. .9, .8, .7, .6, and .5). Upon further reflection though, the cutoffs were chosen to match those typically used to assign letter grades. By using these cut-offs, an \"A\" similarity would be ranked a 5, an \"A-\", \"B+\", or B\", would be ranked a 4 and so on. This seemed like a valid choice and yielded good results, but is definitely an opportunity for fine tuning."
   ]
  },
  {
   "cell_type": "code",
   "execution_count": 66,
   "id": "b7d05613",
   "metadata": {
    "scrolled": false
   },
   "outputs": [
    {
     "name": "stdout",
     "output_type": "stream",
     "text": [
      "\n",
      "Movies like: Toy Story\n",
      "Rank 5: Bug's Life, A; Tarzan; Lion King, The; \n",
      "Rank 4: Chicken Run; Stand by Me; Rocketeer, The; \n",
      "Rank 3: James and the Giant Peach; Space Jam; Jungle2Jungle (a.k.a. Jungle 2 Jungle); \n",
      "Rank 2: Robin Hood: Men in Tights; Babe; Snow Day; \n",
      "Rank 1: Ran; Free Willy; Godzilla; \n",
      "\n",
      "Movies like: Jumanji\n",
      "Rank 5: Good Will Hunting; Patch Adams; Mrs. Doubtfire; \n",
      "Rank 4: Amistad; Borrowers, The; Awakenings; \n",
      "Rank 3: Raiders of the Lost Ark; Beverly Hills Cop III; Drop Dead Gorgeous; \n",
      "Rank 2: Indiana Jones and the Last Crusade; Flintstones, The; Free Willy; \n",
      "Rank 1: Island of Dr. Moreau, The; Deep Blue Sea; Dial M for Murder; \n",
      "\n",
      "Movies like: Heat\n",
      "Rank 5: Carlito's Way; Dog Day Afternoon; Scent of a Woman; \n",
      "Rank 4: Mars Attacks!; Casino; Backdraft; \n",
      "Rank 3: Meet the Parents; Awakenings; Deer Hunter, The; \n",
      "Rank 2: End of Days; Nightmare Before Christmas, The; Teenage Mutant Ninja Turtles; \n",
      "Rank 1: Judge Dredd; Elizabeth; Toy Story 2; \n",
      "\n",
      "Movies like: Sabrina\n",
      "Rank 5: You've Got Mail; Eyes Wide Shut; Cruel Intentions; \n",
      "Rank 4: Paths of Glory; 54; Deep Impact; \n",
      "Rank 3: Blade Runner; Unforgiven; Saving Private Ryan; \n",
      "Rank 2: Doors, The; Indiana Jones and the Last Crusade; I Know What You Did Last Summer; \n",
      "Rank 1: Muriel's Wedding; Modern Times; Fly Away Home; \n",
      "\n",
      "Movies like: GoldenEye\n",
      "Rank 5: Tomorrow Never Dies; Rocky; Rocky V; \n",
      "Rank 4: Bring It On; Happy Gilmore; Remember the Titans; \n",
      "Rank 3: Great Escape, The; Basketball Diaries, The; James and the Giant Peach; \n",
      "Rank 2: Bird on a Wire; Virgin Suicides, The; Sister Act 2: Back in the Habit; \n",
      "Rank 1: Perfect World, A; Tommy Boy; Cutting Edge, The; \n"
     ]
    }
   ],
   "source": [
    "def findSimilar(simMatrix, mID, cutOffs):\n",
    "    mIndex = mid2idx[mID]\n",
    "\n",
    "    movieIDs = {} \n",
    "    [movieIDs.setdefault(i, []) for i in range(1, 6)] \n",
    "\n",
    "    sortedSim = np.argsort(simMatrix[mIndex])\n",
    "    for i in range(len(sortedSim) - 1, -1, -1):\n",
    "        itemSim = simMatrix[mIndex, sortedSim[i]]\n",
    "        \n",
    "        if itemSim == 1:\n",
    "            continue\n",
    "        elif (itemSim >= cutOffs[0]):\n",
    "            movieIDs[5].append(idx2Mid[sortedSim[i]])\n",
    "        elif (itemSim >=  cutOffs[1]):\n",
    "            movieIDs[4].append(idx2Mid[sortedSim[i]])\n",
    "        elif (itemSim >=  cutOffs[2]):\n",
    "            movieIDs[3].append(idx2Mid[sortedSim[i]])\n",
    "        elif (itemSim >=  cutOffs[3]):\n",
    "            movieIDs[2].append(idx2Mid[sortedSim[i]])\n",
    "        else:\n",
    "            movieIDs[1].append(idx2Mid[sortedSim[i]])\n",
    "    return movieIDs\n",
    "\n",
    "def showTopN(movieID, dictMovies, nTop = 5):\n",
    "    print()\n",
    "    print(\"Movies like: {}\".format(dfMovies[dfMovies.mID == movieID].title.to_string(index=False)))\n",
    "    for rank in range(5, 0, -1):\n",
    "        line = \"Rank {}: \".format(rank)\n",
    "        for i in range(min(nTop, len(dictMovies[rank]))):\n",
    "            movie = dfMovies.loc[dfMovies.mID == dictMovies[rank][i]]\n",
    "            #line += str(i) + \"-\" + movie.mID.to_string(index=False) + \": \" \n",
    "            line += movie.title.to_string(index=False) + \"; \"\n",
    "        print(line)\n",
    "\n",
    "def getCosineSimilarities(transData):\n",
    "    dist = distance.pdist(transData, metric = 'cosine')\n",
    "    dist[np.isnan(dist)] = 0\n",
    "    similarity = ((1 - distance.squareform(dist)) * .5) + .5\n",
    "    return similarity\n",
    "\n",
    "cosSim = getCosineSimilarities(nmfTrans)\n",
    "for mId in dfMovies.head(5).mID:\n",
    "    simMovieIDs = findSimilar(cosSim, mId, [0.93, 0.83, 0.73, 0.63])\n",
    "    showTopN(mId, simMovieIDs, 3)\n"
   ]
  },
  {
   "cell_type": "markdown",
   "id": "ce3c04ac",
   "metadata": {},
   "source": [
    "From the similarity rankings each of the 5 movies shown in the above cell, the recommendation appears to be doing it's job as it is recommending for example that \"A Bug's Life\", \"Tarzan\", and \"The Lion King\" are the movies most similar to \"Toy Story\".  \n",
    "\n",
    "Next the actual accuracy of the recommendation system will be calculated."
   ]
  },
  {
   "cell_type": "code",
   "execution_count": 18,
   "id": "51d35b59",
   "metadata": {
    "scrolled": true
   },
   "outputs": [],
   "source": [
    "def getAccuracy(df, simMatrix, cutOffs = [0.93, 0.83, 0.73, 0.63], minRank = 1, speed_up = True):\n",
    "    actual = []\n",
    "    pred = []\n",
    "    like = []\n",
    "    within1 = []\n",
    "    \n",
    "    if speed_up:\n",
    "        nRecords = 4000\n",
    "    else:\n",
    "        nRecords = len(df)\n",
    "    \n",
    "    for uId in df[df.rating == 5].uID.unique()[:nRecords]:\n",
    "        dfUser = df.loc[df.uID == uId]\n",
    "        dictUser = dict(zip(dfUser.mID, dfUser.rating))\n",
    "        for mId in dfUser.loc[dfUser.rating == 5].mID:\n",
    "            simMovieIDs = findSimilar(simMatrix, mId, cutOffs)\n",
    "            for rank in simMovieIDs:\n",
    "                if rank < minRank:\n",
    "                    continue\n",
    "                for movieId in simMovieIDs[rank]:\n",
    "                    if movieId in dictUser:\n",
    "                        rating = dictUser[movieId]\n",
    "                        actual.append(rating)\n",
    "                        pred.append(rank)\n",
    "                        if rating >= rank:\n",
    "                            like.append(rating)\n",
    "                        else:\n",
    "                            like.append(rank)\n",
    "                        if rank - 1 <= rating <= rank + 1:\n",
    "                            within1.append(rating)\n",
    "                        else:\n",
    "                            within1.append(rank)\n",
    "\n",
    "    return actual, pred, like, within1\n",
    "\n",
    "def outputAccuracy(actual, pred, like, within1):\n",
    "    print(\"Predictions made: {}\".format(len(actual)))\n",
    "    print(\"\\t\\t\\tAccuracy\\tRMSE\")\n",
    "    print(\"Perfect Prediction:\\t{:.4f}\\t\\t{:.4f}\".format(metrics.accuracy_score(actual, pred), metrics.mean_squared_error(actual, pred) ** .5))\n",
    "    print(\"At Least as Good:\\t{:.4f}\\t\\t{:.4f}\".format(metrics.accuracy_score(actual, like), metrics.mean_squared_error(actual, like) ** .5))\n",
    "    print(\"Within 1 Star:\\t\\t{:.4f}\\t\\t{:.4f}\".format(metrics.accuracy_score(actual, within1), metrics.mean_squared_error(actual, within1) ** .5))\n"
   ]
  },
  {
   "cell_type": "code",
   "execution_count": 53,
   "id": "b3707ffe",
   "metadata": {
    "scrolled": false
   },
   "outputs": [
    {
     "name": "stdout",
     "output_type": "stream",
     "text": [
      "Predictions made: 14540943\n",
      "\t\t\tAccuracy\tRMSE\n",
      "Perfect Prediction:\t0.0775\t\t2.7599\n",
      "At Least as Good:\t0.9592\t\t0.3327\n",
      "Within 1 Star:\t\t0.2260\t\t2.7329\n",
      "\n",
      "Confusion Matrix:\n",
      "[[ 474462   72032   34561   21233   12470]\n",
      " [ 927160  137481   67805   44512   26329]\n",
      " [2374574  345022  171569  118995   70464]\n",
      " [3854137  563617  285986  209176  125222]\n",
      " [3435702  538118  279644  215836  134836]]\n"
     ]
    }
   ],
   "source": [
    "actual, pred, like, within1 = getAccuracy(dfAllRatings, cosSim, speed_up = False)\n",
    "outputAccuracy(actual, pred, like, within1)\n",
    "print(\"\\nConfusion Matrix:\")\n",
    "print(metrics.confusion_matrix(actual, pred))\n"
   ]
  },
  {
   "cell_type": "markdown",
   "id": "5b956cee",
   "metadata": {},
   "source": [
    "That is some pretty horrible accuracy!  But this is a movie **recommendation** system and it doesn't need to accuratately predict what movies someone will not want to see. This means how accurately the system predicts disimilar movies to one a user liked is not required. Instead the accuracy of only movies that the system believes will be of interest to the user will be measured by returning only those movies that it believes will rank a 4 of higher based on the similarity of the movie given to it.  \n",
    "  \n",
    "Note: The \"At Least as Good\" above is not a good measure for accuracy when using all predictions because _any_ movie will rank at least as good as 1 star."
   ]
  },
  {
   "cell_type": "code",
   "execution_count": 20,
   "id": "c7697904",
   "metadata": {},
   "outputs": [
    {
     "name": "stdout",
     "output_type": "stream",
     "text": [
      "Predictions made: 979073\n",
      "\t\t\tAccuracy\tRMSE\n",
      "Perfect Prediction:\t0.3514\t\t1.2572\n",
      "At Least as Good:\t0.5718\t\t1.1663\n",
      "Within 1 Star:\t\t0.8213\t\t1.0539\n"
     ]
    }
   ],
   "source": [
    "actual, pred, like, within1 = getAccuracy(dfAllRatings, cosSim, minRank = 4, speed_up = False)\n",
    "outputAccuracy(actual, pred, like, within1)"
   ]
  },
  {
   "cell_type": "markdown",
   "id": "33d1483f",
   "metadata": {},
   "source": [
    "The modification to only measure the accuracy of movies that the system beleives the someone will want to see improves the accuracy considerably increasing it to 35.14%. This comes at the expense of making fewer predictions (979,073 vs. 14,540,943).  Additionally, the system rated a movie at least a high as the recommendation system 57.18% of the time and the system was within 1 star of users actual ratings 82.13% (meaning if the system predicted a 5 then the user rated the movie a 4 or 5 and if the system predicted a 4 then the user rated the movie a 3, 4, or 5).  \n",
    "  \n",
    "Based solely on user submitted reviews this appears to be an interesting approach for movie recommendations. However, recall from visualizations above that there is a heavy skew toward in user rating with a score of 3 or above. As a result, a system that predicts only 4's might achieve a good accuracy figure.  \n",
    "  \n",
    "In order to get a better idea of how well the system performs, a count of user ratings in each category is found and then the minimum determined. Then a random sample of that minimum count is chosen from each of the user rating categories."
   ]
  },
  {
   "cell_type": "code",
   "execution_count": 21,
   "id": "d8bc5929",
   "metadata": {},
   "outputs": [
    {
     "name": "stdout",
     "output_type": "stream",
     "text": [
      "96110\n"
     ]
    }
   ],
   "source": [
    "def getSubset(df, count, rank):\n",
    "    return df[df.rating == rank].sample(n =  count, random_state = randomState)\n",
    "\n",
    "lowCount = min(len(dfAllRatings[dfAllRatings.rating == 1]), len(dfAllRatings[dfAllRatings.rating == 2]), \\\n",
    "               len(dfAllRatings[dfAllRatings.rating == 3]), len(dfAllRatings[dfAllRatings.rating == 4]), \\\n",
    "               len(dfAllRatings[dfAllRatings.rating == 5]))\n",
    "\n",
    "dfRating1 = getSubset(dfAllRatings, lowCount, 1)\n",
    "dfRating2 = getSubset(dfAllRatings, lowCount, 2)\n",
    "dfRating3 = getSubset(dfAllRatings, lowCount, 3)\n",
    "dfRating4 = getSubset(dfAllRatings, lowCount, 4)\n",
    "dfRating5 = getSubset(dfAllRatings, lowCount, 5)\n",
    "\n",
    "dfBalancedRatings = pd.concat([dfRating1, dfRating2, dfRating3, dfRating4, dfRating5])\n",
    "print(len(dfBalancedRatings))\n",
    "  "
   ]
  },
  {
   "cell_type": "markdown",
   "id": "a9ab6e1a",
   "metadata": {},
   "source": [
    "After balancing the user ratings so that there are the same number of each rating in the dataframe there are still 96,110 ratings (19,222 per star rating) for the system to work with. The accuracy of the recommendation system is now calculated again on this balanced data set."
   ]
  },
  {
   "cell_type": "code",
   "execution_count": 22,
   "id": "d6178a6b",
   "metadata": {
    "scrolled": true
   },
   "outputs": [
    {
     "name": "stdout",
     "output_type": "stream",
     "text": [
      "Predictions made: 32101\n",
      "\t\t\tAccuracy\tRMSE\n",
      "Perfect Prediction:\t0.2378\t\t1.8794\n",
      "At Least as Good:\t0.4062\t\t1.8341\n",
      "Within 1 Star:\t\t0.5996\t\t1.7806\n"
     ]
    }
   ],
   "source": [
    "actual, pred, like, within1 = getAccuracy(dfBalancedRatings, cosSim, minRank = 4, speed_up = False)\n",
    "outputAccuracy(actual, pred, like, within1)"
   ]
  },
  {
   "cell_type": "markdown",
   "id": "34fad7d4",
   "metadata": {},
   "source": [
    "The system's performance on the balanced dataset degrades significantly, but an accuracy where the user ranks a movie at least at high as the system of 59.96% is still interesting given that only user submitted reviews are used to create the similarities between movies."
   ]
  },
  {
   "cell_type": "markdown",
   "id": "64e0132b",
   "metadata": {},
   "source": [
    "#### Hyperparameter Tuning\n",
    "There are 3 oportunities for tuning these results further, the TfidfVectorizer, the Non-Negative Matrix Factorization, and the cut offs for the findSimilar function.\n",
    "\n",
    "When the testing programmatically for the max_df and max_features parameters the best accuracy and RMSE scores were found with a max_df of 1.0 and max_features of 189. Because of the amount of output though this step is not shown below. However, the other programatic tuning is shown below for completeness.  \n",
    "  \n",
    "It should be noted that although these parameters were tested serially, a better method would be to test them in parallel to detemine any interactions that might impact the final model.  However, time restrictions prevented this approach from being taken (these models take a while to fit and transform)."
   ]
  },
  {
   "cell_type": "code",
   "execution_count": 24,
   "id": "467e0350",
   "metadata": {},
   "outputs": [],
   "source": [
    "finalVectorizer = TfidfVectorizer(max_df = 1.0, min_df = 2, max_features = 189, stop_words = \"english\")\n",
    "finalTfidfTrans = finalVectorizer.fit_transform(dfMovies.all_reviews)"
   ]
  },
  {
   "cell_type": "markdown",
   "id": "4240764e",
   "metadata": {},
   "source": [
    "Initial programmatic testing for optimal number of clusters was determined 63 and 66. The code below demonstrates how the optimal 65 was arrived at as a balance of accuracy and RMSE. "
   ]
  },
  {
   "cell_type": "code",
   "execution_count": 25,
   "id": "38bb1f05",
   "metadata": {},
   "outputs": [
    {
     "name": "stdout",
     "output_type": "stream",
     "text": [
      "With cluser count: 63\n",
      "Predictions made: 24536\n",
      "\t\t\tAccuracy\tRMSE\n",
      "Perfect Prediction:\t0.2404\t\t1.4511\n",
      "At Least as Good:\t0.5896\t\t1.3254\n",
      "Within 1 Star:\t\t0.7553\t\t1.2613\n",
      "\n",
      "With cluser count: 64\n",
      "Predictions made: 24159\n",
      "\t\t\tAccuracy\tRMSE\n",
      "Perfect Prediction:\t0.2388\t\t1.4596\n",
      "At Least as Good:\t0.5860\t\t1.3354\n",
      "Within 1 Star:\t\t0.7507\t\t1.2722\n",
      "\n",
      "With cluser count: 65\n",
      "Predictions made: 23483\n",
      "\t\t\tAccuracy\tRMSE\n",
      "Perfect Prediction:\t0.2395\t\t1.4588\n",
      "At Least as Good:\t0.5845\t\t1.3354\n",
      "Within 1 Star:\t\t0.7512\t\t1.2714\n",
      "\n",
      "With cluser count: 66\n",
      "Predictions made: 24270\n",
      "\t\t\tAccuracy\tRMSE\n",
      "Perfect Prediction:\t0.2362\t\t1.4603\n",
      "At Least as Good:\t0.5836\t\t1.3360\n",
      "Within 1 Star:\t\t0.7494\t\t1.2725\n",
      "\n"
     ]
    }
   ],
   "source": [
    "clusterList = range(63, 67, 1)\n",
    "for cluster in clusterList:\n",
    "    print(\"With cluser count: {}\".format(cluster))\n",
    "\n",
    "    tuningNmf = fitNMF(finalTfidfTrans, cluster, 0.00005, \"kullback-leibler\", \"mu\")\n",
    "    tuningNmfTrans = tuningNmf.transform(finalTfidfTrans)\n",
    "\n",
    "    simMatrix = getCosineSimilarities(tuningNmfTrans)\n",
    "    actual, pred, like, within1 = getAccuracy(dfBalancedRatings, simMatrix, minRank = 4, speed_up = False)\n",
    "    outputAccuracy(actual, pred, like, within1)\n"
   ]
  },
  {
   "cell_type": "markdown",
   "id": "397ec914",
   "metadata": {},
   "source": [
    "With the number of clusters determined, beta loss and solver functions were evaluated."
   ]
  },
  {
   "cell_type": "code",
   "execution_count": 26,
   "id": "b4787d62",
   "metadata": {},
   "outputs": [
    {
     "name": "stdout",
     "output_type": "stream",
     "text": [
      "Beta Loss: frobenius\t\tSolver: cd\n",
      "Predictions made: 76710\n",
      "\t\t\tAccuracy\tRMSE\n",
      "Perfect Prediction:\t0.2316\t\t1.5387\n",
      "At Least as Good:\t0.5347\t\t1.4369\n",
      "Within 1 Star:\t\t0.7104\t\t1.3744\n",
      "\n",
      "Beta Loss: frobenius\t\tSolver: mu\n",
      "Predictions made: 33994\n",
      "\t\t\tAccuracy\tRMSE\n",
      "Perfect Prediction:\t0.2356\t\t1.4765\n",
      "At Least as Good:\t0.5740\t\t1.3571\n",
      "Within 1 Star:\t\t0.7434\t\t1.2931\n",
      "\n",
      "Beta Loss: kullback-leibler\t\tSolver: mu\n",
      "Predictions made: 23483\n",
      "\t\t\tAccuracy\tRMSE\n",
      "Perfect Prediction:\t0.2395\t\t1.4588\n",
      "At Least as Good:\t0.5845\t\t1.3354\n",
      "Within 1 Star:\t\t0.7512\t\t1.2714\n",
      "\n"
     ]
    }
   ],
   "source": [
    "lossList = ['frobenius', 'kullback-leibler', 'itakura-saito']\n",
    "solverList = ['cd', 'mu']\n",
    "for betaLoss in lossList:\n",
    "    for solver in solverList:\n",
    "        try:\n",
    "            tuningNmf = fitNMF(finalTfidfTrans, 65, 0.00005, betaLoss, solver)\n",
    "            tuningNmfTrans = tuningNmf.transform(finalTfidfTrans)\n",
    "        except:\n",
    "            continue\n",
    "\n",
    "        print(\"Beta Loss: {}\\t\\tSolver: {}\".format(betaLoss, solver))\n",
    "        simMatrix = getCosineSimilarities(tuningNmfTrans)\n",
    "        actual, pred, like, within1 = getAccuracy(dfBalancedRatings, simMatrix, minRank = 4, speed_up = False)\n",
    "        outputAccuracy(actual, pred, like, within1)\n",
    "        print()\n"
   ]
  },
  {
   "cell_type": "markdown",
   "id": "44257a68",
   "metadata": {},
   "source": [
    "The testing for various beta loss and solver functions showed that the original choices of kullback-leibler and mu respectively gave the best results."
   ]
  },
  {
   "cell_type": "code",
   "execution_count": 27,
   "id": "a4d5b3b6",
   "metadata": {},
   "outputs": [],
   "source": [
    "finalNmf = fitNMF(finalTfidfTrans, 65, 0.00005, \"kullback-leibler\", \"mu\")\n",
    "finalNmfTrans = finalNmf.transform(finalTfidfTrans)\n",
    "finalSimMatrix = getCosineSimilarities(finalNmfTrans)"
   ]
  },
  {
   "cell_type": "markdown",
   "id": "d8808fd3",
   "metadata": {},
   "source": [
    "Lastly, the cut off ranges for the similarities was tested and the values of .95, .85, .75, .65 showed the best _balanced_ accuracy results across the three accuracy scores as shown below."
   ]
  },
  {
   "cell_type": "code",
   "execution_count": 28,
   "id": "c1fb267c",
   "metadata": {},
   "outputs": [
    {
     "name": "stdout",
     "output_type": "stream",
     "text": [
      "Low cut off 0.60\n",
      "Predictions made: 47757\n",
      "\t\t\tAccuracy\tRMSE\n",
      "Perfect Prediction:\t0.2383\t\t1.5119\n",
      "At Least as Good:\t0.5555\t\t1.4031\n",
      "Within 1 Star:\t\t0.7276\t\t1.3403\n",
      "\n",
      "Low cut off 0.61\n",
      "Predictions made: 38321\n",
      "\t\t\tAccuracy\tRMSE\n",
      "Perfect Prediction:\t0.2391\t\t1.4919\n",
      "At Least as Good:\t0.5670\t\t1.3777\n",
      "Within 1 Star:\t\t0.7361\t\t1.3149\n",
      "\n",
      "Low cut off 0.62\n",
      "Predictions made: 29977\n",
      "\t\t\tAccuracy\tRMSE\n",
      "Perfect Prediction:\t0.2370\t\t1.4749\n",
      "At Least as Good:\t0.5772\t\t1.3547\n",
      "Within 1 Star:\t\t0.7444\t\t1.2915\n",
      "\n",
      "Low cut off 0.63\n",
      "Predictions made: 23483\n",
      "\t\t\tAccuracy\tRMSE\n",
      "Perfect Prediction:\t0.2395\t\t1.4588\n",
      "At Least as Good:\t0.5845\t\t1.3354\n",
      "Within 1 Star:\t\t0.7512\t\t1.2714\n",
      "\n",
      "Low cut off 0.64\n",
      "Predictions made: 18037\n",
      "\t\t\tAccuracy\tRMSE\n",
      "Perfect Prediction:\t0.2419\t\t1.4513\n",
      "At Least as Good:\t0.5880\t\t1.3267\n",
      "Within 1 Star:\t\t0.7544\t\t1.2624\n",
      "\n",
      "Low cut off 0.65\n",
      "Predictions made: 13564\n",
      "\t\t\tAccuracy\tRMSE\n",
      "Perfect Prediction:\t0.2462\t\t1.4439\n",
      "At Least as Good:\t0.5922\t\t1.3186\n",
      "Within 1 Star:\t\t0.7565\t\t1.2548\n",
      "\n",
      "Low cut off 0.66\n",
      "Predictions made: 9933\n",
      "\t\t\tAccuracy\tRMSE\n",
      "Perfect Prediction:\t0.2460\t\t1.4307\n",
      "At Least as Good:\t0.6014\t\t1.3006\n",
      "Within 1 Star:\t\t0.7639\t\t1.2366\n",
      "\n",
      "Low cut off 0.67\n",
      "Predictions made: 7028\n",
      "\t\t\tAccuracy\tRMSE\n",
      "Perfect Prediction:\t0.2409\t\t1.4316\n",
      "At Least as Good:\t0.6060\t\t1.2978\n",
      "Within 1 Star:\t\t0.7651\t\t1.2350\n",
      "\n",
      "Low cut off 0.68\n",
      "Predictions made: 5105\n",
      "\t\t\tAccuracy\tRMSE\n",
      "Perfect Prediction:\t0.2274\t\t1.4242\n",
      "At Least as Good:\t0.6106\t\t1.2826\n",
      "Within 1 Star:\t\t0.7661\t\t1.2205\n",
      "\n",
      "Low cut off 0.69\n",
      "Predictions made: 3750\n",
      "\t\t\tAccuracy\tRMSE\n",
      "Perfect Prediction:\t0.2221\t\t1.4151\n",
      "At Least as Good:\t0.6216\t\t1.2661\n",
      "Within 1 Star:\t\t0.7696\t\t1.2062\n",
      "\n"
     ]
    }
   ],
   "source": [
    "cutOffList = np.arange(.60, .70, .01)\n",
    "for cutOff in cutOffList:\n",
    "    print(\"Low cut off {:.2f}\".format(cutOff))\n",
    "    actual, pred, like, within1 = getAccuracy(dfBalancedRatings, finalSimMatrix, \\\n",
    "                                              [cutOff + .3, cutOff + .2, cutOff + .1, cutOff], minRank = 4, speed_up = False)\n",
    "    outputAccuracy(actual, pred, like, within1)\n",
    "    print()"
   ]
  },
  {
   "cell_type": "markdown",
   "id": "63389c7f",
   "metadata": {},
   "source": [
    "The model with the tuned hyperparameters compares favorably to the original model when working with the balanced dataset."
   ]
  },
  {
   "cell_type": "markdown",
   "id": "5f73a9d3",
   "metadata": {},
   "source": [
    "|                    | Org. Accuracy | Orig. RMSE | Tuned Accuracy | Tuned RMSE |\n",
    "|--------------------|---------------|------------|----------------|------------|\n",
    "| Perfect Prediction | 0.2378        | 1.8794     | 0.2462         | 1.4439     |\n",
    "| At Least as Good   | 0.4062        | 1.8341     | 0.5922         | 1.3186     |\n",
    "| Within 1 Star      | 0.5996        | 1.7806     | 0.7565         | 1.2548     |"
   ]
  },
  {
   "cell_type": "markdown",
   "id": "27c72c82",
   "metadata": {},
   "source": [
    "We can all see how this model performs on the original (skewed) data instead of the balanced dataset."
   ]
  },
  {
   "cell_type": "code",
   "execution_count": 55,
   "id": "c68d2e5f",
   "metadata": {},
   "outputs": [
    {
     "name": "stdout",
     "output_type": "stream",
     "text": [
      "Predictions made: 460971\n",
      "\t\t\tAccuracy\tRMSE\n",
      "Perfect Prediction:\t0.3537\t\t0.9926\n",
      "At Least as Good:\t0.7596\t\t0.7612\n",
      "Within 1 Star:\t\t0.9256\t\t0.6429\n",
      "\n",
      "\n",
      "Confusion Matrix:\n",
      "[[     0      0      0   8676    382]\n",
      " [     0      0      0  20886   1089]\n",
      " [     0      0      0  68157   3253]\n",
      " [     0      0      0 146981   8361]\n",
      " [     0      0      0 187122  16064]]\n"
     ]
    }
   ],
   "source": [
    "actual, pred, like, within1 = getAccuracy(dfAllRatings, finalSimMatrix, [.95, .85, .75, .65], \\\n",
    "                                          minRank = 4, speed_up = False)\n",
    "outputAccuracy(actual, pred, like, within1)\n",
    "print()\n",
    "print(\"\\nConfusion Matrix:\")\n",
    "print(metrics.confusion_matrix(actual, pred))\n"
   ]
  },
  {
   "cell_type": "markdown",
   "id": "edd9e870",
   "metadata": {},
   "source": [
    "As expected, the model performs better on the original (skewed) data set. However an accuracy of 92.56% of prediction within 1 star of actual was much better than was expected.  \n",
    "  \n",
    "We can also examine the systems suggestions just as was done earlier in this report."
   ]
  },
  {
   "cell_type": "code",
   "execution_count": 54,
   "id": "d569a9b1",
   "metadata": {},
   "outputs": [
    {
     "name": "stdout",
     "output_type": "stream",
     "text": [
      "\n",
      "Movies like: Toy Story\n",
      "Rank 5: \n",
      "Rank 4: Toy Story 2; Bug's Life, A; Prince of Egypt, The; \n",
      "Rank 3: Hercules; Nightmare Before Christmas, The; Princess Mononoke, The (Mononoke Hime); \n",
      "Rank 2: Heavenly Creatures; Mask of Zorro, The; Super Mario Bros.; \n",
      "Rank 1: White Men Can't Jump; Liar Liar; Jingle All the Way; \n",
      "\n",
      "Movies like: Jumanji\n",
      "Rank 5: \n",
      "Rank 4: Casper; Jurassic Park; \n",
      "Rank 3: Mummy, The; Twister; Backdraft; \n",
      "Rank 2: Metropolis; From Dusk Till Dawn; Frighteners, The; \n",
      "Rank 1: Green Mile, The; Cliffhanger; Dial M for Murder; \n",
      "\n",
      "Movies like: Heat\n",
      "Rank 5: \n",
      "Rank 4: Reservoir Dogs; Out of Sight; Pulp Fiction; \n",
      "Rank 3: Boondock Saints, The; Butch Cassidy and the Sundance Kid; Shawshank Redemption, The; \n",
      "Rank 2: Bird on a Wire; Interview with the Vampire; Natural Born Killers; \n",
      "Rank 1: Being John Malkovich; Misery; Bicentennial Man; \n",
      "\n",
      "Movies like: Sabrina\n",
      "Rank 5: \n",
      "Rank 4: Parent Trap, The; Thomas Crown Affair, The; Miracle on 34th Street; \n",
      "Rank 3: 101 Dalmatians; Birdcage, The; William Shakespeare's Romeo and Juliet; \n",
      "Rank 2: Child's Play 2; Princess Bride, The; Scream 2; \n",
      "Rank 1: Usual Suspects, The; Shawshank Redemption, The; Time to Kill, A; \n",
      "\n",
      "Movies like: GoldenEye\n",
      "Rank 5: \n",
      "Rank 4: Tomorrow Never Dies; World Is Not Enough, The; Lethal Weapon 4; \n",
      "Rank 3: Terminator, The; Hunt for Red October, The; Nikita (La Femme Nikita); \n",
      "Rank 2: Boondock Saints, The; Small Soldiers; Double Indemnity; \n",
      "Rank 1: Night on Earth; Braindead; William Shakespeare's Romeo and Juliet; \n"
     ]
    }
   ],
   "source": [
    "for mId in dfMovies.head(5).mID:\n",
    "    simMovieIDs = findSimilar(finalSimMatrix, mId, [.95, .85, .75, .65])\n",
    "    showTopN(mId, simMovieIDs, 3)"
   ]
  },
  {
   "cell_type": "markdown",
   "id": "02bb196b",
   "metadata": {},
   "source": [
    "The most obvious difference is that in the final model, the tuned cut offs result in many fewer films being ranked a 5 compared to a given movie, however from the confusion matrix we can see that some still are.  \n",
    "  \n",
    "But compared to the earlier cell which diplayed suggestions (before tuning), some of the suggestions have also changed. For example, Bug's Life ranked above Toy Story 2 in the original model in similarity to Toy Story, but Toy Story 2 ranked higher in the tuned model.\n",
    "\n",
    "As a final step, a _very_ brief comaprison was made to two other unsupervised algorithms. These were done without attempting to tune the hyperparameters for that specific alogorithm and holding the number of clusters constant. The NMF model compared very favorably with both the balanced data set and original (skewed) datasets (only balanced is shown below)."
   ]
  },
  {
   "cell_type": "code",
   "execution_count": 83,
   "id": "d191b3e5",
   "metadata": {},
   "outputs": [
    {
     "name": "stdout",
     "output_type": "stream",
     "text": [
      "Final NMF:\n",
      "Predictions made: 13564\n",
      "\t\t\tAccuracy\tRMSE\n",
      "Perfect Prediction:\t0.2462\t\t1.4439\n",
      "At Least as Good:\t0.5922\t\t1.3186\n",
      "Within 1 Star:\t\t0.7565\t\t1.2548\n",
      "\n",
      "Truncated SVD:\n",
      "Predictions made: 473477\n",
      "\t\t\tAccuracy\tRMSE\n",
      "Perfect Prediction:\t0.2230\t\t1.8911\n",
      "At Least as Good:\t0.3727\t\t1.8512\n",
      "Within 1 Star:\t\t0.5711\t\t1.7968\n",
      "\n",
      "LatentDirichletAllocation:\n",
      "Predictions made: 505935\n",
      "\t\t\tAccuracy\tRMSE\n",
      "Perfect Prediction:\t0.2319\t\t2.3876\n",
      "At Least as Good:\t0.2319\t\t2.3876\n",
      "Within 1 Star:\t\t0.4347\t\t2.3448\n",
      "\n"
     ]
    }
   ],
   "source": [
    "def unsupervisedCompare(transform):\n",
    "    sim = getCosineSimilarities(transform)\n",
    "    actual, pred, like, within1 = getAccuracy(dfBalancedRatings, sim, [.95, .85, .75, .65], \\\n",
    "                                          minRank = 4, speed_up = False)\n",
    "    outputAccuracy(actual, pred, like, within1)\n",
    "    print()\n",
    "    \n",
    "print(\"Final NMF:\")\n",
    "unsupervisedCompare(finalNmfTrans)  \n",
    "print(\"Truncated SVD:\")\n",
    "unsupervisedCompare(TruncatedSVD(n_components = 65, algorithm = 'randomized', n_iter = 1000, \\\n",
    "                                 random_state = randomState).fit_transform(finalTfidfTrans))  \n",
    "print(\"LatentDirichletAllocation:\")\n",
    "unsupervisedCompare(LatentDirichletAllocation(n_components = 65, max_iter = 1000, n_jobs = -1, \\\n",
    "                                              random_state = randomState).fit_transform(finalTfidfTrans))\n"
   ]
  },
  {
   "cell_type": "markdown",
   "id": "9b67d728",
   "metadata": {},
   "source": [
    "### Step 4: Conclusions\n",
    "The use of user submitted reviews to predict similarities, in this case for movies, is to the best of my knowledge not been done before. Recommender systems based on attributes, such as genre, and movie plots (see [Recommender System using Un-supervised Learning](https://www.kaggle.com/code/basu369victor/recommender-system-using-un-supervised-learning/data) have previously been explored, but not user generated reviews.\n",
    "\n",
    "The results of doing predictions from user reviews does show promise though, with an accuracy and RMSE of 0.7565 and 1.2548 repsectively on the balanced dataset and 0.9256 and 0.6429 respectively on the original (skewed) dataset for movies. However, much more time would be needed to experiment for further improvements. This could be time well spent though as the use of user reviews could have broader applications for recommender systems in general, such as for restaurants.\n",
    "\n",
    "But the most interesting part of this project for me was rethinking how to measure the the results of a recommender system. Typically measurements such as precise accuracy, precision, and recall are used. But in a recommender system, a \"precise\" measurement is not needed as much as one that is \"close\" (e.g. within 1 star). The additional insight was that it is not necessary to measure a recommender system on the things it would not recommend, which lead to chosen model being measured only on those movies ranked 4 or higher."
   ]
  }
 ],
 "metadata": {
  "kernelspec": {
   "display_name": "Python 3 (ipykernel)",
   "language": "python",
   "name": "python3"
  },
  "language_info": {
   "codemirror_mode": {
    "name": "ipython",
    "version": 3
   },
   "file_extension": ".py",
   "mimetype": "text/x-python",
   "name": "python",
   "nbconvert_exporter": "python",
   "pygments_lexer": "ipython3",
   "version": "3.9.12"
  }
 },
 "nbformat": 4,
 "nbformat_minor": 5
}
