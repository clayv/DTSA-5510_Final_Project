{
 "cells": [
  {
   "cell_type": "markdown",
   "id": "8af6d294",
   "metadata": {},
   "source": [
    "# DTSA-5510:  Final Project\n",
    "### June 2, 2022\n",
    "\n",
    "\n",
    "## An Unsupervised Machine Learning Approach for Movie Recommendations Based on User Submitted Reviews\n",
    "### Introduction\n",
    "\n",
    "This is the Final Project for DTSA-5510, Unsupervised Algorithms in Machine Learning.  This project applies unsupervised learning algorithms to movie data in an attempt to generate a movie recommendation system based _solely_ on the reviews submitted by users.  \n",
    "  \n",
    "All other movie recommendation systems I'd read about were essentially genre based, where films are recommended based on how similar the recommended films genres are to the film in question. Mine is an entirely different approach in that a film's genre(s) and its ratings are not given to the unsupervised algorithm. Instead, only the text of user submitted reviews are utilized in training the model.\n",
    "\n",
    "This approach had several challenges, the first of which was just finding the data. The movies.csv file as well and the train and test csv files are the same as ones used during Week 3 of the course. Finding user reviews proved more difficult, but I found a large set on [Kaggle](https://www.kaggle.com/),  IMDB_reviews.json, which is part of a larger dataset, [IMDB Spoiler Dataset](https://www.kaggle.com/datasets/rmisra/imdb-spoiler-dataset?select=IMDB_reviews.json).\n",
    "\n",
    "However, I still needed a way to link the files from the course to the user reviews. This I was able to get using the links.csv file from the [MovieLens 25M Dataset](https://grouplens.org/datasets/movielens/).\n",
    "  \n",
    "All of these files, with the exception of the IMDB Reviews file, as well as the Jupyter notebook used to this create report, can be found at and cloned from https://github.com/clayv/DTSA-5510_Final_Project. The IMDB Reviews file is too large, even if compressed, to be uploaded to GitHub and must be downloaded separately from the [IMDB Spoiler Dataset](https://www.kaggle.com/datasets/rmisra/imdb-spoiler-dataset?select=IMDB_reviews.json) on [Kaggle](https://www.kaggle.com/).\n",
    "\n",
    "**References:**  \n",
    "Beysolow, T. (2018). _Applied Natural Language Processing with Python_. Apress  \n",
    "Nixon, A. (2020, August 28). Building a movie content based recommender using tf-idf. Towards Data Science. https://towardsdatascience.com/content-based-recommender-systems-28a1dbd858f5"
   ]
  },
  {
   "cell_type": "code",
   "execution_count": 260,
   "id": "795d2d59",
   "metadata": {},
   "outputs": [],
   "source": [
    "import matplotlib.pylab as plt\n",
    "import numpy as np\n",
    "import pandas as pd\n",
    "from scipy.spatial import distance\n",
    "from sklearn.feature_extraction.text import TfidfVectorizer, CountVectorizer\n",
    "from sklearn.decomposition import NMF\n",
    "import sklearn.metrics as metrics \n",
    "\n",
    "randomState = 42"
   ]
  },
  {
   "cell_type": "markdown",
   "id": "bb328b2e",
   "metadata": {},
   "source": [
    "### Step 0: Load the data"
   ]
  },
  {
   "cell_type": "code",
   "execution_count": 261,
   "id": "66cdad6d",
   "metadata": {},
   "outputs": [],
   "source": [
    "dfReviews = pd.read_json(\"./data/IMDB_reviews.json.zip\", orient = \"records\", lines = True, compression=\"zip\")\n",
    "dfLinks = pd.read_csv(\"./data/links.csv\")\n",
    "dfMovies = pd.read_csv(\"./data/movies.csv\")\n",
    "dfTrain = pd.read_csv(\"./data/train.csv\")\n",
    "dfTest = pd.read_csv(\"./data/test.csv\")\n"
   ]
  },
  {
   "cell_type": "markdown",
   "id": "3e8adba4",
   "metadata": {},
   "source": [
    "Initial examination of the data revealed no null data in any of the fields of interest for this project"
   ]
  },
  {
   "cell_type": "code",
   "execution_count": 262,
   "id": "853df402",
   "metadata": {
    "scrolled": false
   },
   "outputs": [
    {
     "name": "stdout",
     "output_type": "stream",
     "text": [
      "Reviews dataframe:\n",
      "<class 'pandas.core.frame.DataFrame'>\n",
      "RangeIndex: 573913 entries, 0 to 573912\n",
      "Data columns (total 7 columns):\n",
      " #   Column          Non-Null Count   Dtype \n",
      "---  ------          --------------   ----- \n",
      " 0   review_date     573913 non-null  object\n",
      " 1   movie_id        573913 non-null  object\n",
      " 2   user_id         573913 non-null  object\n",
      " 3   is_spoiler      573913 non-null  bool  \n",
      " 4   review_text     573913 non-null  object\n",
      " 5   rating          573913 non-null  int64 \n",
      " 6   review_summary  573913 non-null  object\n",
      "dtypes: bool(1), int64(1), object(5)\n",
      "memory usage: 26.8+ MB\n",
      "\n",
      "Links dataframe:\n",
      "<class 'pandas.core.frame.DataFrame'>\n",
      "RangeIndex: 62423 entries, 0 to 62422\n",
      "Data columns (total 3 columns):\n",
      " #   Column   Non-Null Count  Dtype  \n",
      "---  ------   --------------  -----  \n",
      " 0   movieId  62423 non-null  int64  \n",
      " 1   imdbId   62423 non-null  int64  \n",
      " 2   tmdbId   62316 non-null  float64\n",
      "dtypes: float64(1), int64(2)\n",
      "memory usage: 1.4 MB\n",
      "\n",
      "Movies dataframe:\n",
      "<class 'pandas.core.frame.DataFrame'>\n",
      "RangeIndex: 3883 entries, 0 to 3882\n",
      "Data columns (total 21 columns):\n",
      " #   Column  Non-Null Count  Dtype \n",
      "---  ------  --------------  ----- \n",
      " 0   mID     3883 non-null   int64 \n",
      " 1   title   3883 non-null   object\n",
      " 2   year    3883 non-null   int64 \n",
      " 3   Doc     3883 non-null   int64 \n",
      " 4   Com     3883 non-null   int64 \n",
      " 5   Hor     3883 non-null   int64 \n",
      " 6   Adv     3883 non-null   int64 \n",
      " 7   Wes     3883 non-null   int64 \n",
      " 8   Dra     3883 non-null   int64 \n",
      " 9   Ani     3883 non-null   int64 \n",
      " 10  War     3883 non-null   int64 \n",
      " 11  Chi     3883 non-null   int64 \n",
      " 12  Cri     3883 non-null   int64 \n",
      " 13  Thr     3883 non-null   int64 \n",
      " 14  Sci     3883 non-null   int64 \n",
      " 15  Mys     3883 non-null   int64 \n",
      " 16  Rom     3883 non-null   int64 \n",
      " 17  Fil     3883 non-null   int64 \n",
      " 18  Fan     3883 non-null   int64 \n",
      " 19  Act     3883 non-null   int64 \n",
      " 20  Mus     3883 non-null   int64 \n",
      "dtypes: int64(20), object(1)\n",
      "memory usage: 637.2+ KB\n",
      "\n",
      "Training dataframe:\n",
      "<class 'pandas.core.frame.DataFrame'>\n",
      "RangeIndex: 700146 entries, 0 to 700145\n",
      "Data columns (total 3 columns):\n",
      " #   Column  Non-Null Count   Dtype\n",
      "---  ------  --------------   -----\n",
      " 0   uID     700146 non-null  int64\n",
      " 1   mID     700146 non-null  int64\n",
      " 2   rating  700146 non-null  int64\n",
      "dtypes: int64(3)\n",
      "memory usage: 16.0 MB\n",
      "\n",
      "Test dataframe:\n",
      "<class 'pandas.core.frame.DataFrame'>\n",
      "RangeIndex: 300063 entries, 0 to 300062\n",
      "Data columns (total 3 columns):\n",
      " #   Column  Non-Null Count   Dtype\n",
      "---  ------  --------------   -----\n",
      " 0   uID     300063 non-null  int64\n",
      " 1   mID     300063 non-null  int64\n",
      " 2   rating  300063 non-null  int64\n",
      "dtypes: int64(3)\n",
      "memory usage: 6.9 MB\n",
      "\n"
     ]
    }
   ],
   "source": [
    "def printDfInfo(df, name):\n",
    "    print(\"{} dataframe:\".format(name))\n",
    "    df.info()\n",
    "    #print(df.head())\n",
    "    print()\n",
    "    \n",
    "printDfInfo(dfReviews, \"Reviews\")\n",
    "printDfInfo(dfLinks, \"Links\")\n",
    "printDfInfo(dfMovies, \"Movies\")\n",
    "printDfInfo(dfTrain, \"Training\")\n",
    "printDfInfo(dfTest, \"Test\")\n"
   ]
  },
  {
   "cell_type": "markdown",
   "id": "f1c373b6",
   "metadata": {},
   "source": [
    "### Step 1:  Data Wrangling\n",
    "Although the links.csv file does provide for linking between the Movies and Reviews files, the format of the each of the files uses is different.  The imdbId and movie_id, from Links and Reviews respectively, hold the mapping field but Links uses and numeric field, int64, and Reviews an object. Further complicating this is the Reviews file stores the field with a prepended with a \"tt\" and sometime a leading 0 as well"
   ]
  },
  {
   "cell_type": "code",
   "execution_count": 266,
   "id": "2c166d81",
   "metadata": {},
   "outputs": [
    {
     "data": {
      "text/html": [
       "<div>\n",
       "<style scoped>\n",
       "    .dataframe tbody tr th:only-of-type {\n",
       "        vertical-align: middle;\n",
       "    }\n",
       "\n",
       "    .dataframe tbody tr th {\n",
       "        vertical-align: top;\n",
       "    }\n",
       "\n",
       "    .dataframe thead th {\n",
       "        text-align: right;\n",
       "    }\n",
       "</style>\n",
       "<table border=\"1\" class=\"dataframe\">\n",
       "  <thead>\n",
       "    <tr style=\"text-align: right;\">\n",
       "      <th></th>\n",
       "      <th>movieId</th>\n",
       "      <th>imdbId</th>\n",
       "      <th>tmdbId</th>\n",
       "    </tr>\n",
       "  </thead>\n",
       "  <tbody>\n",
       "    <tr>\n",
       "      <th>0</th>\n",
       "      <td>1</td>\n",
       "      <td>114709</td>\n",
       "      <td>862.0</td>\n",
       "    </tr>\n",
       "    <tr>\n",
       "      <th>1</th>\n",
       "      <td>2</td>\n",
       "      <td>113497</td>\n",
       "      <td>8844.0</td>\n",
       "    </tr>\n",
       "  </tbody>\n",
       "</table>\n",
       "</div>"
      ],
      "text/plain": [
       "   movieId  imdbId  tmdbId\n",
       "0        1  114709   862.0\n",
       "1        2  113497  8844.0"
      ]
     },
     "execution_count": 266,
     "metadata": {},
     "output_type": "execute_result"
    }
   ],
   "source": [
    "dfLinks.head(2)"
   ]
  },
  {
   "cell_type": "code",
   "execution_count": 267,
   "id": "0dda6b68",
   "metadata": {},
   "outputs": [
    {
     "data": {
      "text/html": [
       "<div>\n",
       "<style scoped>\n",
       "    .dataframe tbody tr th:only-of-type {\n",
       "        vertical-align: middle;\n",
       "    }\n",
       "\n",
       "    .dataframe tbody tr th {\n",
       "        vertical-align: top;\n",
       "    }\n",
       "\n",
       "    .dataframe thead th {\n",
       "        text-align: right;\n",
       "    }\n",
       "</style>\n",
       "<table border=\"1\" class=\"dataframe\">\n",
       "  <thead>\n",
       "    <tr style=\"text-align: right;\">\n",
       "      <th></th>\n",
       "      <th>review_date</th>\n",
       "      <th>movie_id</th>\n",
       "      <th>user_id</th>\n",
       "      <th>is_spoiler</th>\n",
       "      <th>review_text</th>\n",
       "      <th>rating</th>\n",
       "      <th>review_summary</th>\n",
       "    </tr>\n",
       "  </thead>\n",
       "  <tbody>\n",
       "    <tr>\n",
       "      <th>0</th>\n",
       "      <td>10 February 2006</td>\n",
       "      <td>tt0111161</td>\n",
       "      <td>ur1898687</td>\n",
       "      <td>True</td>\n",
       "      <td>In its Oscar year, Shawshank Redemption (writt...</td>\n",
       "      <td>10</td>\n",
       "      <td>A classic piece of unforgettable film-making.</td>\n",
       "    </tr>\n",
       "    <tr>\n",
       "      <th>1</th>\n",
       "      <td>6 September 2000</td>\n",
       "      <td>tt0111161</td>\n",
       "      <td>ur0842118</td>\n",
       "      <td>True</td>\n",
       "      <td>The Shawshank Redemption is without a doubt on...</td>\n",
       "      <td>10</td>\n",
       "      <td>Simply amazing. The best film of the 90's.</td>\n",
       "    </tr>\n",
       "  </tbody>\n",
       "</table>\n",
       "</div>"
      ],
      "text/plain": [
       "        review_date   movie_id    user_id  is_spoiler  \\\n",
       "0  10 February 2006  tt0111161  ur1898687        True   \n",
       "1  6 September 2000  tt0111161  ur0842118        True   \n",
       "\n",
       "                                         review_text  rating  \\\n",
       "0  In its Oscar year, Shawshank Redemption (writt...      10   \n",
       "1  The Shawshank Redemption is without a doubt on...      10   \n",
       "\n",
       "                                  review_summary  \n",
       "0  A classic piece of unforgettable film-making.  \n",
       "1     Simply amazing. The best film of the 90's.  "
      ]
     },
     "execution_count": 267,
     "metadata": {},
     "output_type": "execute_result"
    }
   ],
   "source": [
    "dfReviews.head(2)"
   ]
  },
  {
   "cell_type": "markdown",
   "id": "83bc26e1",
   "metadata": {},
   "source": [
    "The following cell strips the leading \"tt\" and the conversion to an int64 will drop a leading 0 if present.  This modified field is then inserted into the Reviews dataframe as an int64 named \"imdbId\" to match the field name in Links"
   ]
  },
  {
   "cell_type": "code",
   "execution_count": 117,
   "id": "d544b760",
   "metadata": {},
   "outputs": [
    {
     "data": {
      "text/html": [
       "<div>\n",
       "<style scoped>\n",
       "    .dataframe tbody tr th:only-of-type {\n",
       "        vertical-align: middle;\n",
       "    }\n",
       "\n",
       "    .dataframe tbody tr th {\n",
       "        vertical-align: top;\n",
       "    }\n",
       "\n",
       "    .dataframe thead th {\n",
       "        text-align: right;\n",
       "    }\n",
       "</style>\n",
       "<table border=\"1\" class=\"dataframe\">\n",
       "  <thead>\n",
       "    <tr style=\"text-align: right;\">\n",
       "      <th></th>\n",
       "      <th>review_date</th>\n",
       "      <th>imdbId</th>\n",
       "      <th>movie_id</th>\n",
       "      <th>user_id</th>\n",
       "      <th>is_spoiler</th>\n",
       "      <th>review_text</th>\n",
       "      <th>rating</th>\n",
       "      <th>review_summary</th>\n",
       "    </tr>\n",
       "  </thead>\n",
       "  <tbody>\n",
       "    <tr>\n",
       "      <th>0</th>\n",
       "      <td>10 February 2006</td>\n",
       "      <td>111161</td>\n",
       "      <td>tt0111161</td>\n",
       "      <td>ur1898687</td>\n",
       "      <td>True</td>\n",
       "      <td>In its Oscar year, Shawshank Redemption (writt...</td>\n",
       "      <td>10</td>\n",
       "      <td>A classic piece of unforgettable film-making.</td>\n",
       "    </tr>\n",
       "    <tr>\n",
       "      <th>1</th>\n",
       "      <td>6 September 2000</td>\n",
       "      <td>111161</td>\n",
       "      <td>tt0111161</td>\n",
       "      <td>ur0842118</td>\n",
       "      <td>True</td>\n",
       "      <td>The Shawshank Redemption is without a doubt on...</td>\n",
       "      <td>10</td>\n",
       "      <td>Simply amazing. The best film of the 90's.</td>\n",
       "    </tr>\n",
       "    <tr>\n",
       "      <th>2</th>\n",
       "      <td>3 August 2001</td>\n",
       "      <td>111161</td>\n",
       "      <td>tt0111161</td>\n",
       "      <td>ur1285640</td>\n",
       "      <td>True</td>\n",
       "      <td>I believe that this film is the best story eve...</td>\n",
       "      <td>8</td>\n",
       "      <td>The best story ever told on film</td>\n",
       "    </tr>\n",
       "    <tr>\n",
       "      <th>3</th>\n",
       "      <td>1 September 2002</td>\n",
       "      <td>111161</td>\n",
       "      <td>tt0111161</td>\n",
       "      <td>ur1003471</td>\n",
       "      <td>True</td>\n",
       "      <td>**Yes, there are SPOILERS here**This film has ...</td>\n",
       "      <td>10</td>\n",
       "      <td>Busy dying or busy living?</td>\n",
       "    </tr>\n",
       "    <tr>\n",
       "      <th>4</th>\n",
       "      <td>20 May 2004</td>\n",
       "      <td>111161</td>\n",
       "      <td>tt0111161</td>\n",
       "      <td>ur0226855</td>\n",
       "      <td>True</td>\n",
       "      <td>At the heart of this extraordinary movie is a ...</td>\n",
       "      <td>8</td>\n",
       "      <td>Great story, wondrously told and acted</td>\n",
       "    </tr>\n",
       "  </tbody>\n",
       "</table>\n",
       "</div>"
      ],
      "text/plain": [
       "        review_date  imdbId   movie_id    user_id  is_spoiler  \\\n",
       "0  10 February 2006  111161  tt0111161  ur1898687        True   \n",
       "1  6 September 2000  111161  tt0111161  ur0842118        True   \n",
       "2     3 August 2001  111161  tt0111161  ur1285640        True   \n",
       "3  1 September 2002  111161  tt0111161  ur1003471        True   \n",
       "4       20 May 2004  111161  tt0111161  ur0226855        True   \n",
       "\n",
       "                                         review_text  rating  \\\n",
       "0  In its Oscar year, Shawshank Redemption (writt...      10   \n",
       "1  The Shawshank Redemption is without a doubt on...      10   \n",
       "2  I believe that this film is the best story eve...       8   \n",
       "3  **Yes, there are SPOILERS here**This film has ...      10   \n",
       "4  At the heart of this extraordinary movie is a ...       8   \n",
       "\n",
       "                                  review_summary  \n",
       "0  A classic piece of unforgettable film-making.  \n",
       "1     Simply amazing. The best film of the 90's.  \n",
       "2               The best story ever told on film  \n",
       "3                     Busy dying or busy living?  \n",
       "4         Great story, wondrously told and acted  "
      ]
     },
     "execution_count": 117,
     "metadata": {},
     "output_type": "execute_result"
    }
   ],
   "source": [
    "# Add imdbId column to dfReviews\n",
    "dfReviews.insert(1, \"imdbId\", np.int64(dfReviews.movie_id.str.strip('tt')), True)\n",
    "dfReviews.head()\n"
   ]
  },
  {
   "cell_type": "markdown",
   "id": "fe8e19c1",
   "metadata": {},
   "source": []
  },
  {
   "cell_type": "code",
   "execution_count": 118,
   "id": "989ebd33",
   "metadata": {},
   "outputs": [
    {
     "data": {
      "text/html": [
       "<div>\n",
       "<style scoped>\n",
       "    .dataframe tbody tr th:only-of-type {\n",
       "        vertical-align: middle;\n",
       "    }\n",
       "\n",
       "    .dataframe tbody tr th {\n",
       "        vertical-align: top;\n",
       "    }\n",
       "\n",
       "    .dataframe thead th {\n",
       "        text-align: right;\n",
       "    }\n",
       "</style>\n",
       "<table border=\"1\" class=\"dataframe\">\n",
       "  <thead>\n",
       "    <tr style=\"text-align: right;\">\n",
       "      <th></th>\n",
       "      <th>mID</th>\n",
       "      <th>title</th>\n",
       "    </tr>\n",
       "  </thead>\n",
       "  <tbody>\n",
       "    <tr>\n",
       "      <th>0</th>\n",
       "      <td>1</td>\n",
       "      <td>Toy Story</td>\n",
       "    </tr>\n",
       "    <tr>\n",
       "      <th>1</th>\n",
       "      <td>2</td>\n",
       "      <td>Jumanji</td>\n",
       "    </tr>\n",
       "    <tr>\n",
       "      <th>2</th>\n",
       "      <td>3</td>\n",
       "      <td>Grumpier Old Men</td>\n",
       "    </tr>\n",
       "    <tr>\n",
       "      <th>3</th>\n",
       "      <td>4</td>\n",
       "      <td>Waiting to Exhale</td>\n",
       "    </tr>\n",
       "    <tr>\n",
       "      <th>4</th>\n",
       "      <td>5</td>\n",
       "      <td>Father of the Bride Part II</td>\n",
       "    </tr>\n",
       "  </tbody>\n",
       "</table>\n",
       "</div>"
      ],
      "text/plain": [
       "   mID                        title\n",
       "0    1                    Toy Story\n",
       "1    2                      Jumanji\n",
       "2    3             Grumpier Old Men\n",
       "3    4            Waiting to Exhale\n",
       "4    5  Father of the Bride Part II"
      ]
     },
     "execution_count": 118,
     "metadata": {},
     "output_type": "execute_result"
    }
   ],
   "source": [
    "# Drop unneeded columns\n",
    "dfReviews.drop(['review_date', 'user_id', 'is_spoiler', 'rating', 'review_summary'], axis = 1, inplace = True)\n",
    "dfMovies.drop(dfMovies.iloc[:, 2:21], axis = 1, inplace = True)\n",
    "dfMovies.head()\n"
   ]
  },
  {
   "cell_type": "code",
   "execution_count": 119,
   "id": "c2891387",
   "metadata": {},
   "outputs": [
    {
     "name": "stdout",
     "output_type": "stream",
     "text": [
      "<class 'pandas.core.frame.DataFrame'>\n",
      "Int64Index: 595 entries, 0 to 3879\n",
      "Data columns (total 3 columns):\n",
      " #   Column       Non-Null Count  Dtype \n",
      "---  ------       --------------  ----- \n",
      " 0   mID          595 non-null    int64 \n",
      " 1   title        595 non-null    object\n",
      " 2   all_reviews  595 non-null    object\n",
      "dtypes: int64(1), object(2)\n",
      "memory usage: 18.6+ KB\n"
     ]
    },
    {
     "data": {
      "text/html": [
       "<div>\n",
       "<style scoped>\n",
       "    .dataframe tbody tr th:only-of-type {\n",
       "        vertical-align: middle;\n",
       "    }\n",
       "\n",
       "    .dataframe tbody tr th {\n",
       "        vertical-align: top;\n",
       "    }\n",
       "\n",
       "    .dataframe thead th {\n",
       "        text-align: right;\n",
       "    }\n",
       "</style>\n",
       "<table border=\"1\" class=\"dataframe\">\n",
       "  <thead>\n",
       "    <tr style=\"text-align: right;\">\n",
       "      <th></th>\n",
       "      <th>mID</th>\n",
       "      <th>title</th>\n",
       "      <th>all_reviews</th>\n",
       "    </tr>\n",
       "  </thead>\n",
       "  <tbody>\n",
       "    <tr>\n",
       "      <th>0</th>\n",
       "      <td>1</td>\n",
       "      <td>Toy Story</td>\n",
       "      <td>Toy Story  5/5 starsChildren play with toys. ...</td>\n",
       "    </tr>\n",
       "    <tr>\n",
       "      <th>1</th>\n",
       "      <td>2</td>\n",
       "      <td>Jumanji</td>\n",
       "      <td>There are few children's movies that I particu...</td>\n",
       "    </tr>\n",
       "    <tr>\n",
       "      <th>5</th>\n",
       "      <td>6</td>\n",
       "      <td>Heat</td>\n",
       "      <td>I remember seeing this in my childhood and bei...</td>\n",
       "    </tr>\n",
       "    <tr>\n",
       "      <th>6</th>\n",
       "      <td>7</td>\n",
       "      <td>Sabrina</td>\n",
       "      <td>They don't make 'em like they used to. In fact...</td>\n",
       "    </tr>\n",
       "    <tr>\n",
       "      <th>9</th>\n",
       "      <td>10</td>\n",
       "      <td>GoldenEye</td>\n",
       "      <td>I hated this one. There were just too many imp...</td>\n",
       "    </tr>\n",
       "  </tbody>\n",
       "</table>\n",
       "</div>"
      ],
      "text/plain": [
       "   mID      title                                        all_reviews\n",
       "0    1  Toy Story  Toy Story  5/5 starsChildren play with toys. ...\n",
       "1    2    Jumanji  There are few children's movies that I particu...\n",
       "5    6       Heat  I remember seeing this in my childhood and bei...\n",
       "6    7    Sabrina  They don't make 'em like they used to. In fact...\n",
       "9   10  GoldenEye  I hated this one. There were just too many imp..."
      ]
     },
     "execution_count": 119,
     "metadata": {},
     "output_type": "execute_result"
    }
   ],
   "source": [
    "def collectReviews():\n",
    "    dfMovies['all_reviews'] = \"\"\n",
    "    for index in range(len(dfMovies)):\n",
    "        allReviews = \"\"\n",
    "        for imdbId in dfLinks[dfLinks.movieId == dfMovies.iloc[index, 0]].imdbId:\n",
    "            for review in dfReviews[dfReviews.imdbId == imdbId].review_text:\n",
    "                allReviews += (review + \" \")\n",
    "            if len(allReviews) > 0:\n",
    "                dfMovies.iloc[index, 2] = allReviews\n",
    "            else:\n",
    "                dfMovies.iloc[index, 2] = np.nan\n",
    "\n",
    "collectReviews()\n",
    "dfMovies.dropna(axis = 0, how = 'any', subset = [\"all_reviews\"], inplace = True)\n",
    "dfMovies.info()\n",
    "dfMovies.head()"
   ]
  },
  {
   "cell_type": "code",
   "execution_count": 120,
   "id": "4a55d1d8",
   "metadata": {},
   "outputs": [],
   "source": [
    "dfMovies.all_reviews.replace(to_replace = \"’\", value = \"\\'\", inplace = True, regex = True)\n",
    "dfMovies.all_reviews.replace(to_replace = \"\\\\d+\", value = \"\", inplace = True, regex = True)\n"
   ]
  },
  {
   "cell_type": "code",
   "execution_count": 238,
   "id": "d68b7c9e",
   "metadata": {},
   "outputs": [],
   "source": [
    "nTopWords = 60\n",
    "tf_vectorizer = CountVectorizer(max_df = 0.80, min_df = 2, max_features = nTopWords, stop_words = \"english\")\n",
    "tf = tf_vectorizer.fit_transform(dfMovies.all_reviews)     \n"
   ]
  },
  {
   "cell_type": "code",
   "execution_count": 239,
   "id": "598e3c16",
   "metadata": {},
   "outputs": [
    {
     "data": {
      "image/png": "[encoded data removed]",
      "text/plain": [
       "<Figure size 1200x480 with 1 Axes>"
      ]
     },
     "metadata": {
      "needs_background": "light"
     },
     "output_type": "display_data"
    }
   ],
   "source": [
    "from matplotlib.pyplot import figure\n",
    "\n",
    "figure(figsize=(15, 6), dpi=80)\n",
    "plt.title(\"Top {} words\".format(nTopWords))\n",
    "plt.bar(x = tf_vectorizer.get_feature_names_out(), height = np.sum(tf.toarray(), axis=0))\n",
    "plt.xticks(rotation = 60)\n",
    "plt.show() "
   ]
  },
  {
   "cell_type": "code",
   "execution_count": 123,
   "id": "47977942",
   "metadata": {},
   "outputs": [],
   "source": [
    "dfMovies.all_reviews = dfMovies.all_reviews.transform(lambda review: review.lower())\n",
    "dfMovies.all_reviews.replace(to_replace = \"\\\\bsci.?fi\\\\b\", value = \"scifi\", inplace = True, regex = True)\n",
    "for word in (\"andy\", \"bruce\", \"edward\", \"david\", \"dr\", \"george\", \"jack\" \"james\", \"jim\", \"kevin\", \\\n",
    "             \"michael\", \"peter\", \"robert\", \"robin\", \"smith\", \"tim\", \"tom\"):\n",
    "    dfMovies.all_reviews.replace(to_replace = \"\\\\b\" + word + \"\\\\b\", value = \"\", inplace = True, regex = True)\n"
   ]
  },
  {
   "cell_type": "code",
   "execution_count": 124,
   "id": "176275f0",
   "metadata": {},
   "outputs": [],
   "source": [
    "dfTrain = dfTrain[dfTrain['mID'].isin(dfMovies['mID'])]\n",
    "dfTest = dfTest[dfTest['mID'].isin(dfMovies['mID'])]"
   ]
  },
  {
   "cell_type": "code",
   "execution_count": 240,
   "id": "29d092c0",
   "metadata": {},
   "outputs": [
    {
     "name": "stdout",
     "output_type": "stream",
     "text": [
      "Extracting tf-idf features for NMF...\n"
     ]
    }
   ],
   "source": [
    "def fitNMF(tfidf, n_topicLabels, alpha, lossFunc, solverArg):\n",
    "    #print(\"Fitting the NMF model with {} loss function and solver {}\".format(lossFunc, solverArg))\n",
    "    nmf = NMF(\n",
    "        n_components = n_topicLabels,\n",
    "        random_state = randomState,\n",
    "        init = \"nndsvda\",\n",
    "        beta_loss = lossFunc,\n",
    "        solver = solverArg,\n",
    "        max_iter = 1000,\n",
    "        alpha_W = alpha,\n",
    "        alpha_H = alpha,\n",
    "        l1_ratio = 0.5,\n",
    "    ).fit(tfidf)\n",
    "    return nmf\n",
    "\n",
    "nClusters = 18\n",
    "\n",
    "print(\"Extracting tf-idf features for NMF...\")\n",
    "tfidf_vectorizer = TfidfVectorizer(max_df = 0.80, min_df = 2, max_features = 100, stop_words = \"english\")\n",
    "\n",
    "tfidfTrans = tfidf_vectorizer.fit_transform(dfMovies.all_reviews)\n",
    "nmfFit = fitNMF(tfidfTrans, nClusters, 0.00005, \"kullback-leibler\", \"mu\")\n",
    "\n",
    "nmfTrans = nmfFit.transform(tfidfTrans)\n"
   ]
  },
  {
   "cell_type": "code",
   "execution_count": 241,
   "id": "6abce633",
   "metadata": {},
   "outputs": [],
   "source": [
    "mid2idx = dict(zip(dfMovies.mID, list(range(len(dfMovies)))))\n",
    "idx2Mid = dict(zip(list(range(len(dfMovies))), dfMovies.mID))\n",
    "cosDist = distance.pdist(nmfTrans, metric = 'cosine')\n",
    "cosDist[np.isnan(cosDist)] = 0\n",
    "cosSim = ((1 - distance.squareform(cosDist)) * .5) + .5\n"
   ]
  },
  {
   "cell_type": "code",
   "execution_count": 253,
   "id": "b7d05613",
   "metadata": {
    "scrolled": false
   },
   "outputs": [
    {
     "name": "stdout",
     "output_type": "stream",
     "text": [
      "\n",
      "Movies like: Toy Story\n",
      "Rank 5: Bug's Life, A; Lion King, The; Tarzan; \n",
      "Rank 4: George of the Jungle; Newsies; Stand by Me; \n",
      "Rank 3: Super Mario Bros.; Stuart Little; Space Jam; \n",
      "Rank 2: Sister Act; Sister Act 2: Back in the Habit; Snow Day; \n",
      "Rank 1: Monty Python's Life of Brian; Office Space; Cool Runnings; \n",
      "\n",
      "Movies like: Jumanji\n",
      "Rank 5: Hook; Good Will Hunting; Mrs. Doubtfire; \n",
      "Rank 4: Fisher King, The; Awakenings; Borrowers, The; \n",
      "Rank 3: Godzilla; Raiders of the Lost Ark; Beverly Hills Cop III; \n",
      "Rank 2: Postman, The; Free Willy; Flintstones, The; \n",
      "Rank 1: Island of Dr. Moreau, The; Jungle2Jungle (a.k.a. Jungle 2 Jungle); Twister; \n",
      "\n",
      "Movies like: Heat\n",
      "Rank 5: Carlito's Way; Dog Day Afternoon; Scent of a Woman; \n",
      "Rank 4: Mars Attacks!; Backdraft; Casino; \n",
      "Rank 3: Awakenings; Deer Hunter, The; \n",
      "Rank 2: Nightmare Before Christmas, The; End of Days; Following; \n",
      "Rank 1: Elizabeth; Rainmaker, The; Blade; \n",
      "\n",
      "Movies like: Sabrina\n",
      "Rank 5: Death Becomes Her; Six Days Seven Nights; Cruel Intentions; \n",
      "Rank 4: Die Hard; Shakespeare in Love; Clear and Present Danger; \n",
      "Rank 3: Rainmaker, The; What Lies Beneath; Almost Famous; \n",
      "Rank 2: Wild Things; Saving Private Ryan; Backdraft; \n",
      "Rank 1: Boogie Nights; Black Beauty; Elephant Man, The; \n",
      "\n",
      "Movies like: GoldenEye\n",
      "Rank 5: Tomorrow Never Dies; World Is Not Enough, The; Doors, The; \n",
      "Rank 4: There's Something About Mary; Con Air; Mission: Impossible 2; \n",
      "Rank 3: Casino; Bound; Airheads; \n",
      "Rank 2: Selena; Major Payne; Remains of the Day, The; \n",
      "Rank 1: Mask, The; North by Northwest; Home Alone; \n"
     ]
    }
   ],
   "source": [
    "def findSimilar(cosSim, mID):\n",
    "    mIndex = mid2idx[mID]\n",
    "\n",
    "    movieIDs = {} \n",
    "    [movieIDs.setdefault(i, []) for i in range(1, 6)] \n",
    "\n",
    "    sortedSim = np.argsort(cosSim[mIndex])\n",
    "    for i in range(len(sortedSim) - 1, -1, -1):\n",
    "        itemSim = cosSim[mIndex, sortedSim[i]]\n",
    "        \n",
    "        if itemSim == 1:\n",
    "            continue\n",
    "        elif (itemSim >= .93):\n",
    "            movieIDs[5].append(idx2Mid[sortedSim[i]])\n",
    "        elif (itemSim >= .83):\n",
    "            movieIDs[4].append(idx2Mid[sortedSim[i]])\n",
    "        elif (itemSim >= .73):\n",
    "            movieIDs[3].append(idx2Mid[sortedSim[i]])\n",
    "        elif (itemSim >= .63):\n",
    "            movieIDs[2].append(idx2Mid[sortedSim[i]])\n",
    "        else:\n",
    "            movieIDs[1].append(idx2Mid[sortedSim[i]])\n",
    "    return movieIDs\n",
    "\n",
    "def showTopN(movieID, dictMovies, nTop = 5):\n",
    "    print()\n",
    "    print(\"Movies like: {}\".format(dfMovies[dfMovies.mID == movieID].title.to_string(index=False)))\n",
    "    for rank in range(5, 0, -1):\n",
    "        line = \"Rank {}: \".format(rank)\n",
    "        for i in range(min(nTop, len(dictMovies[rank]))):\n",
    "            movie = dfMovies.loc[dfMovies.mID == dictMovies[rank][i]]\n",
    "            #line += str(i) + \"-\" + movie.mID.to_string(index=False) + \": \" \n",
    "            line += movie.title.to_string(index=False) + \"; \"\n",
    "        print(line)\n",
    "\n",
    "for mId in dfMovies.head(5).mID:\n",
    "    simMovieIDs = findSimilar(cosSim, mId)\n",
    "    showTopN(mId, simMovieIDs, 3)\n"
   ]
  },
  {
   "cell_type": "code",
   "execution_count": 254,
   "id": "97288ba2",
   "metadata": {},
   "outputs": [
    {
     "name": "stdout",
     "output_type": "stream",
     "text": [
      "False\n",
      "5502\n"
     ]
    }
   ],
   "source": [
    "print((cosSim < 0.1).any())\n",
    "print(len(dfTest[dfTest.rating == 5].uID.unique()))"
   ]
  },
  {
   "cell_type": "code",
   "execution_count": 256,
   "id": "51d35b59",
   "metadata": {
    "scrolled": true
   },
   "outputs": [
    {
     "name": "stdout",
     "output_type": "stream",
     "text": [
      "Done!\n"
     ]
    }
   ],
   "source": [
    "def getAccuracy(df):\n",
    "    actual = []\n",
    "    pred = []\n",
    "    like = []\n",
    "    within1 = []\n",
    "    within2 = []\n",
    "    for uId in df[df.rating == 5].uID.unique():\n",
    "        dfUser = df.loc[df.uID == uId]\n",
    "        dictUser = dict(zip(dfUser.mID, dfUser.rating))\n",
    "        for mId in dfUser.loc[dfUser.rating == 5].mID:\n",
    "            simMovieIDs = findSimilar(cosSim, mId)\n",
    "            for rank in simMovieIDs:\n",
    "                if rank < 4:\n",
    "                    continue\n",
    "                for movieId in simMovieIDs[rank]:\n",
    "                    if movieId in dictUser:\n",
    "                        rating = dictUser[movieId]\n",
    "                        actual.append(rating)\n",
    "                        pred.append(rank)\n",
    "                        if rating >= rank:\n",
    "                            like.append(rating)\n",
    "                        else:\n",
    "                            like.append(rank)\n",
    "                        if rank - 1 <= rating <= rank + 1:\n",
    "                            within1.append(rating)\n",
    "                        else:\n",
    "                            within1.append(rank)\n",
    "                        if rank - 2 <= rating <= rank + 2:\n",
    "                            within2.append(rating)\n",
    "                        else:\n",
    "                            within2.append(rank)\n",
    "\n",
    "    return actual, pred, like, within1, within2\n",
    "\n",
    "actual, pred, like, within1, within2 = getAccuracy(dfTest)\n",
    "print(\"Done!\")        \n"
   ]
  },
  {
   "cell_type": "code",
   "execution_count": 223,
   "id": "d1fcbaa2",
   "metadata": {
    "scrolled": false
   },
   "outputs": [
    {
     "name": "stdout",
     "output_type": "stream",
     "text": [
      "0.35484177515917514 1.3540456699665617\n",
      "0.49108754972101926 1.3027639470730492\n",
      "0.7774398935664735 1.1877885156659398\n",
      "0.9235144784892956 0.9091442230232825\n"
     ]
    }
   ],
   "source": [
    "print(metrics.accuracy_score(actual, pred), metrics.mean_squared_error(actual, pred) ** .5)\n",
    "print(metrics.accuracy_score(actual, like), metrics.mean_squared_error(actual, like) ** .5)\n",
    "print(metrics.accuracy_score(actual, within1), metrics.mean_squared_error(actual, within1) ** .5)\n",
    "print(metrics.accuracy_score(actual, within2), metrics.mean_squared_error(actual, within2) ** .5)\n"
   ]
  },
  {
   "cell_type": "code",
   "execution_count": 229,
   "id": "899a99f7",
   "metadata": {
    "scrolled": true
   },
   "outputs": [
    {
     "name": "stdout",
     "output_type": "stream",
     "text": [
      "0.3640099554320773 1.3287746924326211\n",
      "0.4991028535046594 1.2769296320380479\n",
      "0.7859582103374428 1.1591781262360161\n",
      "0.9295595300109972 0.8770910156020432\n"
     ]
    }
   ],
   "source": [
    "print(metrics.accuracy_score(actual, pred), metrics.mean_squared_error(actual, pred) ** .5)\n",
    "print(metrics.accuracy_score(actual, like), metrics.mean_squared_error(actual, like) ** .5)\n",
    "print(metrics.accuracy_score(actual, within1), metrics.mean_squared_error(actual, within1) ** .5)\n",
    "print(metrics.accuracy_score(actual, within2), metrics.mean_squared_error(actual, within2) ** .5)"
   ]
  },
  {
   "cell_type": "code",
   "execution_count": 231,
   "id": "12b59eb5",
   "metadata": {},
   "outputs": [
    {
     "name": "stdout",
     "output_type": "stream",
     "text": [
      "0.3141944531006544 1.3406445569142462\n",
      "0.6214552820193207 1.0858124983402453\n",
      "0.7388594577750078 1.1716069406202074\n",
      "0.9525942661265192 0.7195301174401226\n"
     ]
    }
   ],
   "source": [
    "print(metrics.accuracy_score(actual, pred), metrics.mean_squared_error(actual, pred) ** .5)\n",
    "print(metrics.accuracy_score(actual, like), metrics.mean_squared_error(actual, like) ** .5)\n",
    "print(metrics.accuracy_score(actual, within1), metrics.mean_squared_error(actual, within1) ** .5)\n",
    "print(metrics.accuracy_score(actual, within2), metrics.mean_squared_error(actual, within2) ** .5)"
   ]
  },
  {
   "cell_type": "code",
   "execution_count": 255,
   "id": "3b575d59",
   "metadata": {},
   "outputs": [
    {
     "name": "stdout",
     "output_type": "stream",
     "text": [
      "32496\n"
     ]
    }
   ],
   "source": [
    "print(len(actual))"
   ]
  },
  {
   "cell_type": "code",
   "execution_count": 252,
   "id": "ac509a2a",
   "metadata": {},
   "outputs": [
    {
     "name": "stdout",
     "output_type": "stream",
     "text": [
      "0.3542282127031019 1.2241291280364732\n",
      "0.5891494337764648 1.1240866964046738\n",
      "0.8338872476612507 1.0093726205664524\n",
      "0.943685376661743 0.761341297413465\n"
     ]
    }
   ],
   "source": [
    "print(metrics.accuracy_score(actual, pred), metrics.mean_squared_error(actual, pred) ** .5)\n",
    "print(metrics.accuracy_score(actual, like), metrics.mean_squared_error(actual, like) ** .5)\n",
    "print(metrics.accuracy_score(actual, within1), metrics.mean_squared_error(actual, within1) ** .5)\n",
    "print(metrics.accuracy_score(actual, within2), metrics.mean_squared_error(actual, within2) ** .5)"
   ]
  },
  {
   "cell_type": "code",
   "execution_count": 257,
   "id": "9f6bd422",
   "metadata": {},
   "outputs": [
    {
     "name": "stdout",
     "output_type": "stream",
     "text": [
      "0.3527717448113262 1.2569085287803075\n",
      "0.5668923705880303 1.1686310041856551\n",
      "0.8193633058849491 1.0550959618191391\n",
      "0.9389205700282227 0.796867888720558\n"
     ]
    }
   ],
   "source": [
    "print(metrics.accuracy_score(actual, pred), metrics.mean_squared_error(actual, pred) ** .5)\n",
    "print(metrics.accuracy_score(actual, like), metrics.mean_squared_error(actual, like) ** .5)\n",
    "print(metrics.accuracy_score(actual, within1), metrics.mean_squared_error(actual, within1) ** .5)\n",
    "print(metrics.accuracy_score(actual, within2), metrics.mean_squared_error(actual, within2) ** .5)"
   ]
  },
  {
   "cell_type": "code",
   "execution_count": null,
   "id": "633d0180",
   "metadata": {},
   "outputs": [],
   "source": []
  }
 ],
 "metadata": {
  "kernelspec": {
   "display_name": "Python 3 (ipykernel)",
   "language": "python",
   "name": "python3"
  },
  "language_info": {
   "codemirror_mode": {
    "name": "ipython",
    "version": 3
   },
   "file_extension": ".py",
   "mimetype": "text/x-python",
   "name": "python",
   "nbconvert_exporter": "python",
   "pygments_lexer": "ipython3",
   "version": "3.9.12"
  }
 },
 "nbformat": 4,
 "nbformat_minor": 5
}
